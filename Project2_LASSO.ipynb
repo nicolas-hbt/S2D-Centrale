{
 "cells": [
  {
   "cell_type": "markdown",
   "metadata": {},
   "source": [
    "# TP - Autour de l'estimateur Lasso\n",
    "\n",
    "### *Alexandre TRENDEL, Nicolas HUBERT*"
   ]
  },
  {
   "cell_type": "markdown",
   "metadata": {},
   "source": [
    "## Régression ridge, lasso et elastic-net sur les données Baseball Hitters"
   ]
  },
  {
   "cell_type": "code",
   "execution_count": 1,
   "metadata": {},
   "outputs": [
    {
     "name": "stderr",
     "output_type": "stream",
     "text": [
      "Warning message:\n",
      "\"package 'glmnet' was built under R version 3.5.2\"Loading required package: Matrix\n",
      "Loading required package: foreach\n",
      "Loaded glmnet 2.0-16\n",
      "\n",
      "Loading required package: lattice\n"
     ]
    },
    {
     "data": {
      "text/html": [
       "<table>\n",
       "<thead><tr><th></th><th scope=col>AtBat</th><th scope=col>Hits</th><th scope=col>HmRun</th><th scope=col>Runs</th><th scope=col>RBI</th><th scope=col>Walks</th><th scope=col>Years</th><th scope=col>CAtBat</th><th scope=col>CHits</th><th scope=col>CHmRun</th><th scope=col>CRuns</th><th scope=col>CRBI</th><th scope=col>CWalks</th><th scope=col>League</th><th scope=col>Division</th><th scope=col>PutOuts</th><th scope=col>Assists</th><th scope=col>Errors</th><th scope=col>Salary</th><th scope=col>NewLeague</th></tr></thead>\n",
       "<tbody>\n",
       "\t<tr><th scope=row>-Alan Ashby</th><td>315  </td><td> 81  </td><td> 7   </td><td>24   </td><td>38   </td><td>39   </td><td>14   </td><td>3449 </td><td> 835 </td><td> 69  </td><td>321  </td><td>414  </td><td>375  </td><td>N    </td><td>W    </td><td>632  </td><td> 43  </td><td>10   </td><td>475.0</td><td>N    </td></tr>\n",
       "\t<tr><th scope=row>-Alvin Davis</th><td>479  </td><td>130  </td><td>18   </td><td>66   </td><td>72   </td><td>76   </td><td> 3   </td><td>1624 </td><td> 457 </td><td> 63  </td><td>224  </td><td>266  </td><td>263  </td><td>A    </td><td>W    </td><td>880  </td><td> 82  </td><td>14   </td><td>480.0</td><td>A    </td></tr>\n",
       "\t<tr><th scope=row>-Andre Dawson</th><td>496  </td><td>141  </td><td>20   </td><td>65   </td><td>78   </td><td>37   </td><td>11   </td><td>5628 </td><td>1575 </td><td>225  </td><td>828  </td><td>838  </td><td>354  </td><td>N    </td><td>E    </td><td>200  </td><td> 11  </td><td> 3   </td><td>500.0</td><td>N    </td></tr>\n",
       "\t<tr><th scope=row>-Andres Galarraga</th><td>321  </td><td> 87  </td><td>10   </td><td>39   </td><td>42   </td><td>30   </td><td> 2   </td><td> 396 </td><td> 101 </td><td> 12  </td><td> 48  </td><td> 46  </td><td> 33  </td><td>N    </td><td>E    </td><td>805  </td><td> 40  </td><td> 4   </td><td> 91.5</td><td>N    </td></tr>\n",
       "\t<tr><th scope=row>-Alfredo Griffin</th><td>594  </td><td>169  </td><td> 4   </td><td>74   </td><td>51   </td><td>35   </td><td>11   </td><td>4408 </td><td>1133 </td><td> 19  </td><td>501  </td><td>336  </td><td>194  </td><td>A    </td><td>W    </td><td>282  </td><td>421  </td><td>25   </td><td>750.0</td><td>A    </td></tr>\n",
       "\t<tr><th scope=row>-Al Newman</th><td>185  </td><td> 37  </td><td> 1   </td><td>23   </td><td> 8   </td><td>21   </td><td> 2   </td><td> 214 </td><td>  42 </td><td>  1  </td><td> 30  </td><td>  9  </td><td> 24  </td><td>N    </td><td>E    </td><td> 76  </td><td>127  </td><td> 7   </td><td> 70.0</td><td>A    </td></tr>\n",
       "</tbody>\n",
       "</table>\n"
      ],
      "text/latex": [
       "\\begin{tabular}{r|llllllllllllllllllll}\n",
       "  & AtBat & Hits & HmRun & Runs & RBI & Walks & Years & CAtBat & CHits & CHmRun & CRuns & CRBI & CWalks & League & Division & PutOuts & Assists & Errors & Salary & NewLeague\\\\\n",
       "\\hline\n",
       "\t-Alan Ashby & 315   &  81   &  7    & 24    & 38    & 39    & 14    & 3449  &  835  &  69   & 321   & 414   & 375   & N     & W     & 632   &  43   & 10    & 475.0 & N    \\\\\n",
       "\t-Alvin Davis & 479   & 130   & 18    & 66    & 72    & 76    &  3    & 1624  &  457  &  63   & 224   & 266   & 263   & A     & W     & 880   &  82   & 14    & 480.0 & A    \\\\\n",
       "\t-Andre Dawson & 496   & 141   & 20    & 65    & 78    & 37    & 11    & 5628  & 1575  & 225   & 828   & 838   & 354   & N     & E     & 200   &  11   &  3    & 500.0 & N    \\\\\n",
       "\t-Andres Galarraga & 321   &  87   & 10    & 39    & 42    & 30    &  2    &  396  &  101  &  12   &  48   &  46   &  33   & N     & E     & 805   &  40   &  4    &  91.5 & N    \\\\\n",
       "\t-Alfredo Griffin & 594   & 169   &  4    & 74    & 51    & 35    & 11    & 4408  & 1133  &  19   & 501   & 336   & 194   & A     & W     & 282   & 421   & 25    & 750.0 & A    \\\\\n",
       "\t-Al Newman & 185   &  37   &  1    & 23    &  8    & 21    &  2    &  214  &   42  &   1   &  30   &   9   &  24   & N     & E     &  76   & 127   &  7    &  70.0 & A    \\\\\n",
       "\\end{tabular}\n"
      ],
      "text/markdown": [
       "\n",
       "| <!--/--> | AtBat | Hits | HmRun | Runs | RBI | Walks | Years | CAtBat | CHits | CHmRun | CRuns | CRBI | CWalks | League | Division | PutOuts | Assists | Errors | Salary | NewLeague | \n",
       "|---|---|---|---|---|---|\n",
       "| -Alan Ashby | 315   |  81   |  7    | 24    | 38    | 39    | 14    | 3449  |  835  |  69   | 321   | 414   | 375   | N     | W     | 632   |  43   | 10    | 475.0 | N     | \n",
       "| -Alvin Davis | 479   | 130   | 18    | 66    | 72    | 76    |  3    | 1624  |  457  |  63   | 224   | 266   | 263   | A     | W     | 880   |  82   | 14    | 480.0 | A     | \n",
       "| -Andre Dawson | 496   | 141   | 20    | 65    | 78    | 37    | 11    | 5628  | 1575  | 225   | 828   | 838   | 354   | N     | E     | 200   |  11   |  3    | 500.0 | N     | \n",
       "| -Andres Galarraga | 321   |  87   | 10    | 39    | 42    | 30    |  2    |  396  |  101  |  12   |  48   |  46   |  33   | N     | E     | 805   |  40   |  4    |  91.5 | N     | \n",
       "| -Alfredo Griffin | 594   | 169   |  4    | 74    | 51    | 35    | 11    | 4408  | 1133  |  19   | 501   | 336   | 194   | A     | W     | 282   | 421   | 25    | 750.0 | A     | \n",
       "| -Al Newman | 185   |  37   |  1    | 23    |  8    | 21    |  2    |  214  |   42  |   1   |  30   |   9   |  24   | N     | E     |  76   | 127   |  7    |  70.0 | A     | \n",
       "\n",
       "\n"
      ],
      "text/plain": [
       "                  AtBat Hits HmRun Runs RBI Walks Years CAtBat CHits CHmRun\n",
       "-Alan Ashby       315    81   7    24   38  39    14    3449    835   69   \n",
       "-Alvin Davis      479   130  18    66   72  76     3    1624    457   63   \n",
       "-Andre Dawson     496   141  20    65   78  37    11    5628   1575  225   \n",
       "-Andres Galarraga 321    87  10    39   42  30     2     396    101   12   \n",
       "-Alfredo Griffin  594   169   4    74   51  35    11    4408   1133   19   \n",
       "-Al Newman        185    37   1    23    8  21     2     214     42    1   \n",
       "                  CRuns CRBI CWalks League Division PutOuts Assists Errors\n",
       "-Alan Ashby       321   414  375    N      W        632      43     10    \n",
       "-Alvin Davis      224   266  263    A      W        880      82     14    \n",
       "-Andre Dawson     828   838  354    N      E        200      11      3    \n",
       "-Andres Galarraga  48    46   33    N      E        805      40      4    \n",
       "-Alfredo Griffin  501   336  194    A      W        282     421     25    \n",
       "-Al Newman         30     9   24    N      E         76     127      7    \n",
       "                  Salary NewLeague\n",
       "-Alan Ashby       475.0  N        \n",
       "-Alvin Davis      480.0  A        \n",
       "-Andre Dawson     500.0  N        \n",
       "-Andres Galarraga  91.5  N        \n",
       "-Alfredo Griffin  750.0  A        \n",
       "-Al Newman         70.0  A        "
      ]
     },
     "metadata": {},
     "output_type": "display_data"
    }
   ],
   "source": [
    "library(ISLR)\n",
    "library(glmnet)\n",
    "library(ggplot2)\n",
    "library(caret)\n",
    "\n",
    "Hitters = na.omit(Hitters)\n",
    "head(Hitters)\n",
    "\n",
    "n = nrow(Hitters)\n",
    "Itrain = sample(1:n, n/2)\n",
    "Hitters.train = Hitters[Itrain,]\n",
    "Hitters.test = Hitters[-Itrain,]"
   ]
  },
  {
   "cell_type": "markdown",
   "metadata": {},
   "source": [
    "## Question 1\n",
    "*Effectuer la régression linéaire du Salaire sur toutes les autres variables pour les données de l’échantillon d’apprentissage.*"
   ]
  },
  {
   "cell_type": "code",
   "execution_count": 2,
   "metadata": {},
   "outputs": [
    {
     "data": {
      "text/plain": [
       "\n",
       "Call:\n",
       "lm(formula = Salary ~ ., data = Hitters.train)\n",
       "\n",
       "Residuals:\n",
       "    Min      1Q  Median      3Q     Max \n",
       "-627.08 -144.93  -33.07   91.34 1800.03 \n",
       "\n",
       "Coefficients:\n",
       "              Estimate Std. Error t value Pr(>|t|)   \n",
       "(Intercept)  174.43026  123.88768   1.408  0.16193   \n",
       "AtBat         -1.33079    1.01031  -1.317  0.19048   \n",
       "Hits           7.78044    3.39790   2.290  0.02392 * \n",
       "HmRun         13.69994    8.20655   1.669  0.09786 . \n",
       "Runs          -6.06970    3.88173  -1.564  0.12074   \n",
       "RBI           -5.32402    3.39071  -1.570  0.11922   \n",
       "Walks          7.02328    2.48443   2.827  0.00558 **\n",
       "Years         -0.37717   16.85791  -0.022  0.98219   \n",
       "CAtBat        -0.07551    0.20623  -0.366  0.71497   \n",
       "CHits         -0.53185    0.98653  -0.539  0.59089   \n",
       "CHmRun        -2.86733    2.26172  -1.268  0.20753   \n",
       "CRuns          1.78621    1.04274   1.713  0.08951 . \n",
       "CRBI           1.89689    0.94171   2.014  0.04640 * \n",
       "CWalks        -1.25646    0.45885  -2.738  0.00720 **\n",
       "LeagueN       99.70464  107.82698   0.925  0.35714   \n",
       "DivisionW   -113.53762   53.54677  -2.120  0.03620 * \n",
       "PutOuts        0.13000    0.11911   1.091  0.27744   \n",
       "Assists        0.60129    0.31268   1.923  0.05704 . \n",
       "Errors        -7.47929    6.65970  -1.123  0.26383   \n",
       "NewLeagueN   -30.13786  106.23288  -0.284  0.77717   \n",
       "---\n",
       "Signif. codes:  0 '***' 0.001 '**' 0.01 '*' 0.05 '.' 0.1 ' ' 1\n",
       "\n",
       "Residual standard error: 298.8 on 111 degrees of freedom\n",
       "Multiple R-squared:  0.4958,\tAdjusted R-squared:  0.4095 \n",
       "F-statistic: 5.745 on 19 and 111 DF,  p-value: 1.057e-09\n"
      ]
     },
     "metadata": {},
     "output_type": "display_data"
    }
   ],
   "source": [
    "Hitters.lm = lm(Salary ~ ., Hitters.train)\n",
    "summary(Hitters.lm)"
   ]
  },
  {
   "cell_type": "markdown",
   "metadata": {},
   "source": [
    "## Question 2\n",
    "*Est-il cependant nécessaire de normaliser “à la main” les données avant d’utiliser glmnet() ? Consulter l’aide de la fonction pour répondre à cette question.*\n",
    "\n",
    "Non, il n'est pas nécessaire de faire cette étape à la main : il est possible de demander à `glmnet` de faire celle-ci pour nous, à l'aide du paramètre `standardize`. Celui vaut `TRUE` par défaut, il n'y a donc rien à faire."
   ]
  },
  {
   "cell_type": "markdown",
   "metadata": {},
   "source": [
    "## Question 3\n",
    "*Ajuster un estimateur ridge sur l’échantillon d’apprentissage.*"
   ]
  },
  {
   "cell_type": "code",
   "execution_count": 3,
   "metadata": {
    "scrolled": true
   },
   "outputs": [
    {
     "data": {
      "text/html": [
       "<table>\n",
       "<thead><tr><th></th><th scope=col>AtBat</th><th scope=col>Hits</th><th scope=col>HmRun</th><th scope=col>Runs</th><th scope=col>RBI</th><th scope=col>Walks</th><th scope=col>Years</th><th scope=col>CAtBat</th><th scope=col>CHits</th><th scope=col>CHmRun</th><th scope=col>CRuns</th><th scope=col>CRBI</th><th scope=col>CWalks</th><th scope=col>LeagueN</th><th scope=col>DivisionW</th><th scope=col>PutOuts</th><th scope=col>Assists</th><th scope=col>Errors</th><th scope=col>NewLeagueN</th></tr></thead>\n",
       "<tbody>\n",
       "\t<tr><th scope=row>-Robby Thompson</th><td>549 </td><td>149 </td><td> 7  </td><td>73  </td><td> 47 </td><td>42  </td><td> 1  </td><td> 549</td><td> 149</td><td> 7  </td><td> 73 </td><td> 47 </td><td> 42 </td><td>1   </td><td>1   </td><td>255 </td><td>450 </td><td>17  </td><td>1   </td></tr>\n",
       "\t<tr><th scope=row>-Mike Young</th><td>369 </td><td> 93 </td><td> 9  </td><td>43  </td><td> 42 </td><td>49  </td><td> 5  </td><td>1258</td><td> 323</td><td>54  </td><td>181 </td><td>177 </td><td>157 </td><td>0   </td><td>0   </td><td>149 </td><td>  1 </td><td> 6  </td><td>0   </td></tr>\n",
       "\t<tr><th scope=row>-Tom Paciorek</th><td>213 </td><td> 61 </td><td> 4  </td><td>17  </td><td> 22 </td><td> 3  </td><td>17  </td><td>4061</td><td>1145</td><td>83  </td><td>488 </td><td>491 </td><td>244 </td><td>0   </td><td>1   </td><td>178 </td><td> 45 </td><td> 4  </td><td>0   </td></tr>\n",
       "\t<tr><th scope=row>-Brett Butler</th><td>587 </td><td>163 </td><td> 4  </td><td>92  </td><td> 51 </td><td>70  </td><td> 6  </td><td>2695</td><td> 747</td><td>17  </td><td>442 </td><td>198 </td><td>317 </td><td>0   </td><td>0   </td><td>434 </td><td>  9 </td><td> 3  </td><td>0   </td></tr>\n",
       "\t<tr><th scope=row>-Jose Canseco</th><td>600 </td><td>144 </td><td>33  </td><td>85  </td><td>117 </td><td>65  </td><td> 2  </td><td> 696</td><td> 173</td><td>38  </td><td>101 </td><td>130 </td><td> 69 </td><td>0   </td><td>1   </td><td>319 </td><td>  4 </td><td>14  </td><td>0   </td></tr>\n",
       "\t<tr><th scope=row>-Greg Gagne</th><td>472 </td><td>118 </td><td>12  </td><td>63  </td><td> 54 </td><td>30  </td><td> 4  </td><td> 793</td><td> 187</td><td>14  </td><td>102 </td><td> 80 </td><td> 50 </td><td>0   </td><td>1   </td><td>228 </td><td>377 </td><td>26  </td><td>0   </td></tr>\n",
       "</tbody>\n",
       "</table>\n"
      ],
      "text/latex": [
       "\\begin{tabular}{r|lllllllllllllllllll}\n",
       "  & AtBat & Hits & HmRun & Runs & RBI & Walks & Years & CAtBat & CHits & CHmRun & CRuns & CRBI & CWalks & LeagueN & DivisionW & PutOuts & Assists & Errors & NewLeagueN\\\\\n",
       "\\hline\n",
       "\t-Robby Thompson & 549  & 149  &  7   & 73   &  47  & 42   &  1   &  549 &  149 &  7   &  73  &  47  &  42  & 1    & 1    & 255  & 450  & 17   & 1   \\\\\n",
       "\t-Mike Young & 369  &  93  &  9   & 43   &  42  & 49   &  5   & 1258 &  323 & 54   & 181  & 177  & 157  & 0    & 0    & 149  &   1  &  6   & 0   \\\\\n",
       "\t-Tom Paciorek & 213  &  61  &  4   & 17   &  22  &  3   & 17   & 4061 & 1145 & 83   & 488  & 491  & 244  & 0    & 1    & 178  &  45  &  4   & 0   \\\\\n",
       "\t-Brett Butler & 587  & 163  &  4   & 92   &  51  & 70   &  6   & 2695 &  747 & 17   & 442  & 198  & 317  & 0    & 0    & 434  &   9  &  3   & 0   \\\\\n",
       "\t-Jose Canseco & 600  & 144  & 33   & 85   & 117  & 65   &  2   &  696 &  173 & 38   & 101  & 130  &  69  & 0    & 1    & 319  &   4  & 14   & 0   \\\\\n",
       "\t-Greg Gagne & 472  & 118  & 12   & 63   &  54  & 30   &  4   &  793 &  187 & 14   & 102  &  80  &  50  & 0    & 1    & 228  & 377  & 26   & 0   \\\\\n",
       "\\end{tabular}\n"
      ],
      "text/markdown": [
       "\n",
       "| <!--/--> | AtBat | Hits | HmRun | Runs | RBI | Walks | Years | CAtBat | CHits | CHmRun | CRuns | CRBI | CWalks | LeagueN | DivisionW | PutOuts | Assists | Errors | NewLeagueN | \n",
       "|---|---|---|---|---|---|\n",
       "| -Robby Thompson | 549  | 149  |  7   | 73   |  47  | 42   |  1   |  549 |  149 |  7   |  73  |  47  |  42  | 1    | 1    | 255  | 450  | 17   | 1    | \n",
       "| -Mike Young | 369  |  93  |  9   | 43   |  42  | 49   |  5   | 1258 |  323 | 54   | 181  | 177  | 157  | 0    | 0    | 149  |   1  |  6   | 0    | \n",
       "| -Tom Paciorek | 213  |  61  |  4   | 17   |  22  |  3   | 17   | 4061 | 1145 | 83   | 488  | 491  | 244  | 0    | 1    | 178  |  45  |  4   | 0    | \n",
       "| -Brett Butler | 587  | 163  |  4   | 92   |  51  | 70   |  6   | 2695 |  747 | 17   | 442  | 198  | 317  | 0    | 0    | 434  |   9  |  3   | 0    | \n",
       "| -Jose Canseco | 600  | 144  | 33   | 85   | 117  | 65   |  2   |  696 |  173 | 38   | 101  | 130  |  69  | 0    | 1    | 319  |   4  | 14   | 0    | \n",
       "| -Greg Gagne | 472  | 118  | 12   | 63   |  54  | 30   |  4   |  793 |  187 | 14   | 102  |  80  |  50  | 0    | 1    | 228  | 377  | 26   | 0    | \n",
       "\n",
       "\n"
      ],
      "text/plain": [
       "                AtBat Hits HmRun Runs RBI Walks Years CAtBat CHits CHmRun CRuns\n",
       "-Robby Thompson 549   149   7    73    47 42     1     549    149   7      73  \n",
       "-Mike Young     369    93   9    43    42 49     5    1258    323  54     181  \n",
       "-Tom Paciorek   213    61   4    17    22  3    17    4061   1145  83     488  \n",
       "-Brett Butler   587   163   4    92    51 70     6    2695    747  17     442  \n",
       "-Jose Canseco   600   144  33    85   117 65     2     696    173  38     101  \n",
       "-Greg Gagne     472   118  12    63    54 30     4     793    187  14     102  \n",
       "                CRBI CWalks LeagueN DivisionW PutOuts Assists Errors NewLeagueN\n",
       "-Robby Thompson  47   42    1       1         255     450     17     1         \n",
       "-Mike Young     177  157    0       0         149       1      6     0         \n",
       "-Tom Paciorek   491  244    0       1         178      45      4     0         \n",
       "-Brett Butler   198  317    0       0         434       9      3     0         \n",
       "-Jose Canseco   130   69    0       1         319       4     14     0         \n",
       "-Greg Gagne      80   50    0       1         228     377     26     0         "
      ]
     },
     "metadata": {},
     "output_type": "display_data"
    }
   ],
   "source": [
    "MatDesign = model.matrix(Salary ~ ., data = Hitters.train)\n",
    "MatDesign = MatDesign[,-1]\n",
    "head(MatDesign)"
   ]
  },
  {
   "cell_type": "code",
   "execution_count": 9,
   "metadata": {
    "scrolled": false
   },
   "outputs": [
    {
     "data": {
      "text/plain": [
       "          Length Class     Mode   \n",
       "a0         1     -none-    numeric\n",
       "beta      19     dgCMatrix S4     \n",
       "df         1     -none-    numeric\n",
       "dim        2     -none-    numeric\n",
       "lambda     1     -none-    numeric\n",
       "dev.ratio  1     -none-    numeric\n",
       "nulldev    1     -none-    numeric\n",
       "npasses    1     -none-    numeric\n",
       "jerr       1     -none-    numeric\n",
       "offset     1     -none-    logical\n",
       "call       6     -none-    call   \n",
       "nobs       1     -none-    numeric"
      ]
     },
     "metadata": {},
     "output_type": "display_data"
    },
    {
     "data": {
      "text/plain": [
       "19 x 1 sparse Matrix of class \"dgCMatrix\"\n",
       "                     s0\n",
       "AtBat       -0.74363631\n",
       "Hits         6.02361254\n",
       "HmRun       10.23159202\n",
       "Runs        -4.72408103\n",
       "RBI         -4.13345900\n",
       "Walks        6.56439387\n",
       "Years       11.11209739\n",
       "CAtBat      -0.12481378\n",
       "CHits        0.05879312\n",
       "CHmRun      -1.20744566\n",
       "CRuns        0.97510567\n",
       "CRBI         1.15190768\n",
       "CWalks      -0.97328440\n",
       "LeagueN    121.38889388\n",
       "DivisionW  -98.13909158\n",
       "PutOuts      0.10894057\n",
       "Assists      0.58066018\n",
       "Errors      -7.33533176\n",
       "NewLeagueN -17.28366763"
      ]
     },
     "metadata": {},
     "output_type": "display_data"
    }
   ],
   "source": [
    "Hitters.ridge = glmnet(MatDesign, Hitters.train$Salary, alpha = 0, lambda = c(1), intercept = F)\n",
    "summary(Hitters.ridge)\n",
    "Hitters.ridge$beta"
   ]
  },
  {
   "cell_type": "markdown",
   "metadata": {},
   "source": [
    "## Question 4\n",
    "*Donner la prédiction de cet estimateur ridge sur les 10 premiers joueurs.*"
   ]
  },
  {
   "cell_type": "code",
   "execution_count": 17,
   "metadata": {},
   "outputs": [
    {
     "data": {
      "text/html": [
       "<table>\n",
       "<thead><tr><th></th><th scope=col>pred</th><th scope=col>actual</th></tr></thead>\n",
       "<tbody>\n",
       "\t<tr><th scope=row>-Alvin Davis</th><td> 493.4755</td><td> 480.000 </td></tr>\n",
       "\t<tr><th scope=row>-Andres Galarraga</th><td> 444.3589</td><td>  91.500 </td></tr>\n",
       "\t<tr><th scope=row>-Alfredo Griffin</th><td> 582.6959</td><td> 750.000 </td></tr>\n",
       "\t<tr><th scope=row>-Al Newman</th><td> 256.7656</td><td>  70.000 </td></tr>\n",
       "\t<tr><th scope=row>-Andre Thornton</th><td> 566.6304</td><td>1100.000 </td></tr>\n",
       "\t<tr><th scope=row>-Alan Wiggins</th><td> 265.8114</td><td> 700.000 </td></tr>\n",
       "\t<tr><th scope=row>-Buddy Bell</th><td>1125.1567</td><td> 775.000 </td></tr>\n",
       "\t<tr><th scope=row>-Bobby Bonilla</th><td> 265.4641</td><td> 115.000 </td></tr>\n",
       "\t<tr><th scope=row>-Bob Brenly</th><td> 595.7197</td><td> 600.000 </td></tr>\n",
       "\t<tr><th scope=row>-Bob Dernier</th><td> 349.4922</td><td> 708.333 </td></tr>\n",
       "</tbody>\n",
       "</table>\n"
      ],
      "text/latex": [
       "\\begin{tabular}{r|ll}\n",
       "  & pred & actual\\\\\n",
       "\\hline\n",
       "\t-Alvin Davis &  493.4755 &  480.000 \\\\\n",
       "\t-Andres Galarraga &  444.3589 &   91.500 \\\\\n",
       "\t-Alfredo Griffin &  582.6959 &  750.000 \\\\\n",
       "\t-Al Newman &  256.7656 &   70.000 \\\\\n",
       "\t-Andre Thornton &  566.6304 & 1100.000 \\\\\n",
       "\t-Alan Wiggins &  265.8114 &  700.000 \\\\\n",
       "\t-Buddy Bell & 1125.1567 &  775.000 \\\\\n",
       "\t-Bobby Bonilla &  265.4641 &  115.000 \\\\\n",
       "\t-Bob Brenly &  595.7197 &  600.000 \\\\\n",
       "\t-Bob Dernier &  349.4922 &  708.333 \\\\\n",
       "\\end{tabular}\n"
      ],
      "text/markdown": [
       "\n",
       "| <!--/--> | pred | actual | \n",
       "|---|---|---|---|---|---|---|---|---|---|\n",
       "| -Alvin Davis |  493.4755 |  480.000  | \n",
       "| -Andres Galarraga |  444.3589 |   91.500  | \n",
       "| -Alfredo Griffin |  582.6959 |  750.000  | \n",
       "| -Al Newman |  256.7656 |   70.000  | \n",
       "| -Andre Thornton |  566.6304 | 1100.000  | \n",
       "| -Alan Wiggins |  265.8114 |  700.000  | \n",
       "| -Buddy Bell | 1125.1567 |  775.000  | \n",
       "| -Bobby Bonilla |  265.4641 |  115.000  | \n",
       "| -Bob Brenly |  595.7197 |  600.000  | \n",
       "| -Bob Dernier |  349.4922 |  708.333  | \n",
       "\n",
       "\n"
      ],
      "text/plain": [
       "                  pred      actual  \n",
       "-Alvin Davis       493.4755  480.000\n",
       "-Andres Galarraga  444.3589   91.500\n",
       "-Alfredo Griffin   582.6959  750.000\n",
       "-Al Newman         256.7656   70.000\n",
       "-Andre Thornton    566.6304 1100.000\n",
       "-Alan Wiggins      265.8114  700.000\n",
       "-Buddy Bell       1125.1567  775.000\n",
       "-Bobby Bonilla     265.4641  115.000\n",
       "-Bob Brenly        595.7197  600.000\n",
       "-Bob Dernier       349.4922  708.333"
      ]
     },
     "metadata": {},
     "output_type": "display_data"
    }
   ],
   "source": [
    "testMatrix = model.matrix(Salary ~ ., Hitters.test)[1:10,-1]\n",
    "prediction = predict(Hitters.ridge, testMatrix, s = c(1))\n",
    "actual = Hitters.test[1:10,]$Salary # pour comparer les prédictions aux vraies valeurs observées\n",
    "data.frame(pred = prediction[,1], actual = actual)"
   ]
  },
  {
   "cell_type": "markdown",
   "metadata": {},
   "source": [
    "La qualité des prédictions est très hétérogène selon les joueurs : on remarque notamment que, par exemple, la prédiction du salaire de Alvin Davis ou de Bob Brenly s'avère très précise. On ne peut pas en dire autant pour Andres Galarraga ou encore Al Newman."
   ]
  },
  {
   "cell_type": "markdown",
   "metadata": {},
   "source": [
    "## Question 5\n",
    "*Toujours pour l’estimateur ridge, choisissez λ par validation croisée 5 folds à l’aide de la fonction cv.glmnet(). On utilise ici uniquement les données d’apprentissage pour la validation croisée et on considère ici comme critère l’erreur moyenne quadratique MSE (mean square error) ou RMSE (root mean square error). Afficher (print) et représenter graphiquement (plot) les erreurs MSE pour la grille de λ considérée. Afficher aussi le vecteur des λ calculés ainsi que le nombre de coefficients non nuls (nzero) qui correspond à chaque λ. L’estimateur ridge est-il capable de sélectionner des variables ?*"
   ]
  },
  {
   "cell_type": "code",
   "execution_count": 23,
   "metadata": {
    "scrolled": false
   },
   "outputs": [
    {
     "data": {
      "text/plain": [
       "           Length Class  Mode     \n",
       "lambda     39     -none- numeric  \n",
       "cvm        39     -none- numeric  \n",
       "cvsd       39     -none- numeric  \n",
       "cvup       39     -none- numeric  \n",
       "cvlo       39     -none- numeric  \n",
       "nzero      39     -none- numeric  \n",
       "name        1     -none- character\n",
       "glmnet.fit 12     elnet  list     \n",
       "lambda.min  1     -none- numeric  \n",
       "lambda.1se  1     -none- numeric  "
      ]
     },
     "metadata": {},
     "output_type": "display_data"
    },
    {
     "name": "stdout",
     "output_type": "stream",
     "text": [
      " [1] 371165.0 367088.2 364500.1 363745.6 362921.3 362021.3 361039.1 359967.8\n",
      " [9] 358799.9 357527.5 356142.4 354635.5 352997.7 351219.1 349289.5 347198.3\n",
      "[17] 344934.7 342487.6 339845.8 336997.9 333933.0 330640.2 327109.4 323331.1\n",
      "[25] 319296.9 314999.7 310434.1 305596.6 300486.3 295104.5 289455.9 283548.4\n",
      "[33] 277393.5 271006.6 264406.9 257617.8 250666.3 243583.3 236403.1\n"
     ]
    },
    {
     "data": {},
     "metadata": {},
     "output_type": "display_data"
    },
    {
     "data": {
      "image/png": "[encoded data removed]",
      "text/plain": [
       "plot without title"
      ]
     },
     "metadata": {},
     "output_type": "display_data"
    }
   ],
   "source": [
    "control = trainControl(method = \"repeatedcv\", number = 5, repeats = 1)\n",
    "\n",
    "Hitters.cv = cv.glmnet(MatDesign, Hitters.train$Salary, nfolds = 5, alpha = 0, type.measure = \"mse\", intercept = F)\n",
    "summary(Hitters.cv)\n",
    "\n",
    "print(Hitters.cv$cvm) # cvm : The mean cross-validated error / erreur moyenne de validation croisée\n",
    "ggplot(mapping = aes(x = Hitters.cv$lambda)) + geom_point(aes(y = Hitters.cv$cvm))"
   ]
  },
  {
   "cell_type": "code",
   "execution_count": 27,
   "metadata": {},
   "outputs": [
    {
     "name": "stdout",
     "output_type": "stream",
     "text": [
      " s0  s1  s2  s3  s4  s5  s6  s7  s8  s9 s10 s11 s12 s13 s14 s15 s16 s17 s18 s19 \n",
      " 19  19  19  19  19  19  19  19  19  19  19  19  19  19  19  19  19  19  19  19 \n",
      "s20 s21 s22 s23 s24 s25 s26 s27 s28 s29 s30 s31 s32 s33 s34 s35 s36 s37 s38 \n",
      " 19  19  19  19  19  19  19  19  19  19  19  19  19  19  19  19  19  19  19 \n"
     ]
    }
   ],
   "source": [
    "print(Hitters.cv$nzero)"
   ]
  },
  {
   "cell_type": "markdown",
   "metadata": {},
   "source": [
    "L'estimateur ridge n'est pas capable de sélectionner des variables. On remarque effectivement que tout au long des itérations ci-dessus, le nombre de variables gardées dans le modèle reste constant et égal à 19. Pour information, la régression ridge nous permet de réduire l'amplitude des coefficients d'une régression linéaire et d'éviter le sur-apprentissage. Cependant, on peut souhaiter pousser les choses plus loin, et annuler certains coefficients. Pour cela, l'estimateur ridge n'est pas approprié; il faudra plutôt se tourner vers le Lasso qui, lui, peut annuler certains coefficients et nous proposer un modèle plus \"allégé\"."
   ]
  },
  {
   "cell_type": "markdown",
   "metadata": {},
   "source": [
    "## Question 6\n",
    "*Donner les coefficients de l’estimateur ridge pour la valeur du λ minimisant l’erreur MSE.*"
   ]
  },
  {
   "cell_type": "code",
   "execution_count": 28,
   "metadata": {},
   "outputs": [
    {
     "data": {
      "text/html": [
       "<dl class=dl-horizontal>\n",
       "\t<dt>AtBat</dt>\n",
       "\t\t<dd>0.058686315478078</dd>\n",
       "\t<dt>Hits</dt>\n",
       "\t\t<dd>0.184417831597205</dd>\n",
       "\t<dt>HmRun</dt>\n",
       "\t\t<dd>0.624923607123995</dd>\n",
       "\t<dt>Runs</dt>\n",
       "\t\t<dd>0.288602395838315</dd>\n",
       "\t<dt>RBI</dt>\n",
       "\t\t<dd>0.29094050175996</dd>\n",
       "\t<dt>Walks</dt>\n",
       "\t\t<dd>0.336996466328215</dd>\n",
       "\t<dt>Years</dt>\n",
       "\t\t<dd>1.13334648715212</dd>\n",
       "\t<dt>CAtBat</dt>\n",
       "\t\t<dd>0.00204939765331001</dd>\n",
       "\t<dt>CHits</dt>\n",
       "\t\t<dd>0.00702570635178494</dd>\n",
       "\t<dt>CHmRun</dt>\n",
       "\t\t<dd>0.0482497261005492</dd>\n",
       "\t<dt>CRuns</dt>\n",
       "\t\t<dd>0.0135882065692556</dd>\n",
       "\t<dt>CRBI</dt>\n",
       "\t\t<dd>0.0141355974554767</dd>\n",
       "\t<dt>CWalks</dt>\n",
       "\t\t<dd>0.0150363232751014</dd>\n",
       "\t<dt>LeagueN</dt>\n",
       "\t\t<dd>6.50151852738193</dd>\n",
       "\t<dt>DivisionW</dt>\n",
       "\t\t<dd>5.65591992975234</dd>\n",
       "\t<dt>PutOuts</dt>\n",
       "\t\t<dd>0.0156312087203591</dd>\n",
       "\t<dt>Assists</dt>\n",
       "\t\t<dd>0.0197543841389904</dd>\n",
       "\t<dt>Errors</dt>\n",
       "\t\t<dd>0.621949295071943</dd>\n",
       "\t<dt>NewLeagueN</dt>\n",
       "\t\t<dd>6.29557579651543</dd>\n",
       "</dl>\n"
      ],
      "text/latex": [
       "\\begin{description*}\n",
       "\\item[AtBat] 0.058686315478078\n",
       "\\item[Hits] 0.184417831597205\n",
       "\\item[HmRun] 0.624923607123995\n",
       "\\item[Runs] 0.288602395838315\n",
       "\\item[RBI] 0.29094050175996\n",
       "\\item[Walks] 0.336996466328215\n",
       "\\item[Years] 1.13334648715212\n",
       "\\item[CAtBat] 0.00204939765331001\n",
       "\\item[CHits] 0.00702570635178494\n",
       "\\item[CHmRun] 0.0482497261005492\n",
       "\\item[CRuns] 0.0135882065692556\n",
       "\\item[CRBI] 0.0141355974554767\n",
       "\\item[CWalks] 0.0150363232751014\n",
       "\\item[LeagueN] 6.50151852738193\n",
       "\\item[DivisionW] 5.65591992975234\n",
       "\\item[PutOuts] 0.0156312087203591\n",
       "\\item[Assists] 0.0197543841389904\n",
       "\\item[Errors] 0.621949295071943\n",
       "\\item[NewLeagueN] 6.29557579651543\n",
       "\\end{description*}\n"
      ],
      "text/markdown": [
       "AtBat\n",
       ":   0.058686315478078Hits\n",
       ":   0.184417831597205HmRun\n",
       ":   0.624923607123995Runs\n",
       ":   0.288602395838315RBI\n",
       ":   0.29094050175996Walks\n",
       ":   0.336996466328215Years\n",
       ":   1.13334648715212CAtBat\n",
       ":   0.00204939765331001CHits\n",
       ":   0.00702570635178494CHmRun\n",
       ":   0.0482497261005492CRuns\n",
       ":   0.0135882065692556CRBI\n",
       ":   0.0141355974554767CWalks\n",
       ":   0.0150363232751014LeagueN\n",
       ":   6.50151852738193DivisionW\n",
       ":   5.65591992975234PutOuts\n",
       ":   0.0156312087203591Assists\n",
       ":   0.0197543841389904Errors\n",
       ":   0.621949295071943NewLeagueN\n",
       ":   6.29557579651543\n",
       "\n"
      ],
      "text/plain": [
       "      AtBat        Hits       HmRun        Runs         RBI       Walks \n",
       "0.058686315 0.184417832 0.624923607 0.288602396 0.290940502 0.336996466 \n",
       "      Years      CAtBat       CHits      CHmRun       CRuns        CRBI \n",
       "1.133346487 0.002049398 0.007025706 0.048249726 0.013588207 0.014135597 \n",
       "     CWalks     LeagueN   DivisionW     PutOuts     Assists      Errors \n",
       "0.015036323 6.501518527 5.655919930 0.015631209 0.019754384 0.621949295 \n",
       " NewLeagueN \n",
       "6.295575797 "
      ]
     },
     "metadata": {},
     "output_type": "display_data"
    }
   ],
   "source": [
    "index = which(Hitters.cv$lambda == Hitters.cv$lambda.min) # lambda.min : valeur de lambda donnant le cvm minimal.\n",
    "beta = Hitters.cv$glmnet.fit$beta[,index]\n",
    "beta"
   ]
  },
  {
   "cell_type": "markdown",
   "metadata": {},
   "source": [
    "## Question 7\n",
    "*Représenter les trajectoires des coefficients estimés en fonction de λ.*"
   ]
  },
  {
   "cell_type": "code",
   "execution_count": 29,
   "metadata": {},
   "outputs": [
    {
     "data": {},
     "metadata": {},
     "output_type": "display_data"
    },
    {
     "data": {
      "image/png": "[encoded data removed]",
      "text/plain": [
       "plot without title"
      ]
     },
     "metadata": {},
     "output_type": "display_data"
    }
   ],
   "source": [
    "plot.trajectoire = function(res, names, max = NULL) {\n",
    "    max = if (is.null(max)) length(res$lambda) else max\n",
    "    lam = res$lambda[1:max]\n",
    "    purrr::reduce(1:length(names), function(plot, param) {\n",
    "        values = res$glmnet.fit$beta[param, 1:max]\n",
    "        param.name = names[param]\n",
    "        return(plot + geom_point(aes(x = lam, y = values, color = param.name)))\n",
    "    }, .init = ggplot())\n",
    "}\n",
    "\n",
    "plot.trajectoire(Hitters.cv, colnames(MatDesign), 25)"
   ]
  },
  {
   "cell_type": "markdown",
   "metadata": {},
   "source": [
    "## Question 8\n",
    "*Répondre de même aux questions 5, 6 et 7 pour l’estimateur Lasso.*\n",
    "\n",
    "Pour l'estimateur Lasso, on prend $\\alpha = 1$."
   ]
  },
  {
   "cell_type": "code",
   "execution_count": 30,
   "metadata": {},
   "outputs": [
    {
     "data": {
      "text/plain": [
       "           Length Class  Mode     \n",
       "lambda      5     -none- numeric  \n",
       "cvm         5     -none- numeric  \n",
       "cvsd        5     -none- numeric  \n",
       "cvup        5     -none- numeric  \n",
       "cvlo        5     -none- numeric  \n",
       "nzero       5     -none- numeric  \n",
       "name        1     -none- character\n",
       "glmnet.fit 12     elnet  list     \n",
       "lambda.min  1     -none- numeric  \n",
       "lambda.1se  1     -none- numeric  "
      ]
     },
     "metadata": {},
     "output_type": "display_data"
    },
    {
     "name": "stdout",
     "output_type": "stream",
     "text": [
      "[1] 366519.6 335069.5 302106.4 274739.3 252018.0\n"
     ]
    },
    {
     "data": {},
     "metadata": {},
     "output_type": "display_data"
    },
    {
     "data": {
      "image/png": "[encoded data removed]",
      "text/plain": [
       "plot without title"
      ]
     },
     "metadata": {},
     "output_type": "display_data"
    }
   ],
   "source": [
    "lasso = cv.glmnet(MatDesign, Hitters.train$Salary, nfolds = 5, alpha = 1, type.measure = \"mse\", intercept = F)\n",
    "summary(lasso)\n",
    "\n",
    "print(lasso$cvm)\n",
    "ggplot(mapping = aes(x = lasso$lambda)) + geom_point(aes(y = lasso$cvm))"
   ]
  },
  {
   "cell_type": "code",
   "execution_count": 33,
   "metadata": {},
   "outputs": [
    {
     "name": "stdout",
     "output_type": "stream",
     "text": [
      "s0 s1 s2 s3 s4 \n",
      " 0  1  1  1  1 \n"
     ]
    }
   ],
   "source": [
    "print(lasso$nzero)"
   ]
  },
  {
   "cell_type": "markdown",
   "metadata": {},
   "source": [
    "Contrairement à l'estimateur ridge, le Lasso est capable d'annuler certains coefficients (i.e faire de la sélection de variables) pour garder un modèle plus simple."
   ]
  },
  {
   "cell_type": "code",
   "execution_count": 34,
   "metadata": {},
   "outputs": [
    {
     "data": {
      "text/html": [
       "<dl class=dl-horizontal>\n",
       "\t<dt>AtBat</dt>\n",
       "\t\t<dd>0.358662332348057</dd>\n",
       "\t<dt>Hits</dt>\n",
       "\t\t<dd>0</dd>\n",
       "\t<dt>HmRun</dt>\n",
       "\t\t<dd>0</dd>\n",
       "\t<dt>Runs</dt>\n",
       "\t\t<dd>0</dd>\n",
       "\t<dt>RBI</dt>\n",
       "\t\t<dd>0</dd>\n",
       "\t<dt>Walks</dt>\n",
       "\t\t<dd>0</dd>\n",
       "\t<dt>Years</dt>\n",
       "\t\t<dd>0</dd>\n",
       "\t<dt>CAtBat</dt>\n",
       "\t\t<dd>0</dd>\n",
       "\t<dt>CHits</dt>\n",
       "\t\t<dd>0</dd>\n",
       "\t<dt>CHmRun</dt>\n",
       "\t\t<dd>0</dd>\n",
       "\t<dt>CRuns</dt>\n",
       "\t\t<dd>0</dd>\n",
       "\t<dt>CRBI</dt>\n",
       "\t\t<dd>0</dd>\n",
       "\t<dt>CWalks</dt>\n",
       "\t\t<dd>0</dd>\n",
       "\t<dt>LeagueN</dt>\n",
       "\t\t<dd>0</dd>\n",
       "\t<dt>DivisionW</dt>\n",
       "\t\t<dd>0</dd>\n",
       "\t<dt>PutOuts</dt>\n",
       "\t\t<dd>0</dd>\n",
       "\t<dt>Assists</dt>\n",
       "\t\t<dd>0</dd>\n",
       "\t<dt>Errors</dt>\n",
       "\t\t<dd>0</dd>\n",
       "\t<dt>NewLeagueN</dt>\n",
       "\t\t<dd>0</dd>\n",
       "</dl>\n"
      ],
      "text/latex": [
       "\\begin{description*}\n",
       "\\item[AtBat] 0.358662332348057\n",
       "\\item[Hits] 0\n",
       "\\item[HmRun] 0\n",
       "\\item[Runs] 0\n",
       "\\item[RBI] 0\n",
       "\\item[Walks] 0\n",
       "\\item[Years] 0\n",
       "\\item[CAtBat] 0\n",
       "\\item[CHits] 0\n",
       "\\item[CHmRun] 0\n",
       "\\item[CRuns] 0\n",
       "\\item[CRBI] 0\n",
       "\\item[CWalks] 0\n",
       "\\item[LeagueN] 0\n",
       "\\item[DivisionW] 0\n",
       "\\item[PutOuts] 0\n",
       "\\item[Assists] 0\n",
       "\\item[Errors] 0\n",
       "\\item[NewLeagueN] 0\n",
       "\\end{description*}\n"
      ],
      "text/markdown": [
       "AtBat\n",
       ":   0.358662332348057Hits\n",
       ":   0HmRun\n",
       ":   0Runs\n",
       ":   0RBI\n",
       ":   0Walks\n",
       ":   0Years\n",
       ":   0CAtBat\n",
       ":   0CHits\n",
       ":   0CHmRun\n",
       ":   0CRuns\n",
       ":   0CRBI\n",
       ":   0CWalks\n",
       ":   0LeagueN\n",
       ":   0DivisionW\n",
       ":   0PutOuts\n",
       ":   0Assists\n",
       ":   0Errors\n",
       ":   0NewLeagueN\n",
       ":   0\n",
       "\n"
      ],
      "text/plain": [
       "     AtBat       Hits      HmRun       Runs        RBI      Walks      Years \n",
       " 0.3586623  0.0000000  0.0000000  0.0000000  0.0000000  0.0000000  0.0000000 \n",
       "    CAtBat      CHits     CHmRun      CRuns       CRBI     CWalks    LeagueN \n",
       " 0.0000000  0.0000000  0.0000000  0.0000000  0.0000000  0.0000000  0.0000000 \n",
       " DivisionW    PutOuts    Assists     Errors NewLeagueN \n",
       " 0.0000000  0.0000000  0.0000000  0.0000000  0.0000000 "
      ]
     },
     "metadata": {},
     "output_type": "display_data"
    }
   ],
   "source": [
    "index = which(lasso$lambda == lasso$lambda.min)\n",
    "beta = lasso$glmnet.fit$beta[,index]\n",
    "beta"
   ]
  },
  {
   "cell_type": "code",
   "execution_count": 35,
   "metadata": {},
   "outputs": [
    {
     "data": {},
     "metadata": {},
     "output_type": "display_data"
    },
    {
     "data": {
      "image/png": "[encoded data removed]",
      "text/plain": [
       "plot without title"
      ]
     },
     "metadata": {},
     "output_type": "display_data"
    }
   ],
   "source": [
    "plot.trajectoire(lasso, colnames(MatDesign))"
   ]
  },
  {
   "cell_type": "markdown",
   "metadata": {},
   "source": [
    "## Question 9\n",
    "*Faire de même pour l’estimateur elastic-net.*\n",
    "\n",
    "Pour faire de la validation croisée sur les deux paramètres de l'estimateur _elastic-net_, il faut appeler plusieurs fois `cv.glmnet` avec plusieurs valeurs de $\\alpha$ mais en gardant le même découpage. En pratique, avec glmnet(), nous devons fixer la valeur de $\\alpha$ et la fonction se charge de déterminer la plage de λ à explorer."
   ]
  },
  {
   "cell_type": "code",
   "execution_count": 41,
   "metadata": {},
   "outputs": [
    {
     "data": {
      "text/plain": [
       "           Length Class  Mode     \n",
       "lambda      7     -none- numeric  \n",
       "cvm         7     -none- numeric  \n",
       "cvsd        7     -none- numeric  \n",
       "cvup        7     -none- numeric  \n",
       "cvlo        7     -none- numeric  \n",
       "nzero       7     -none- numeric  \n",
       "name        1     -none- character\n",
       "glmnet.fit 12     elnet  list     \n",
       "lambda.min  1     -none- numeric  \n",
       "lambda.1se  1     -none- numeric  "
      ]
     },
     "metadata": {},
     "output_type": "display_data"
    },
    {
     "name": "stdout",
     "output_type": "stream",
     "text": [
      "[1] 369045.1 344838.7 319397.6 295979.1 274132.1 254395.4 237293.1\n"
     ]
    },
    {
     "data": {},
     "metadata": {},
     "output_type": "display_data"
    },
    {
     "data": {
      "image/png": "[encoded data removed]",
      "text/plain": [
       "plot without title"
      ]
     },
     "metadata": {},
     "output_type": "display_data"
    }
   ],
   "source": [
    "elnet = cv.glmnet(MatDesign, Hitters.train$Salary, nfolds = 5, alpha = 0.5, type.measure = \"mse\", intercept = F)\n",
    "summary(elnet)\n",
    "\n",
    "print(elnet$cvm)\n",
    "ggplot(mapping = aes(x = elnet$lambda)) + geom_point(aes(y = elnet$cvm))"
   ]
  },
  {
   "cell_type": "code",
   "execution_count": 42,
   "metadata": {},
   "outputs": [
    {
     "name": "stdout",
     "output_type": "stream",
     "text": [
      "s0 s1 s2 s3 s4 s5 s6 \n",
      " 0  1  1  1  2  2  2 \n"
     ]
    },
    {
     "data": {
      "text/html": [
       "<dl class=dl-horizontal>\n",
       "\t<dt>AtBat</dt>\n",
       "\t\t<dd>0.322476295723807</dd>\n",
       "\t<dt>Hits</dt>\n",
       "\t\t<dd>0.32213722639825</dd>\n",
       "\t<dt>HmRun</dt>\n",
       "\t\t<dd>0</dd>\n",
       "\t<dt>Runs</dt>\n",
       "\t\t<dd>0</dd>\n",
       "\t<dt>RBI</dt>\n",
       "\t\t<dd>0</dd>\n",
       "\t<dt>Walks</dt>\n",
       "\t\t<dd>0</dd>\n",
       "\t<dt>Years</dt>\n",
       "\t\t<dd>0</dd>\n",
       "\t<dt>CAtBat</dt>\n",
       "\t\t<dd>0</dd>\n",
       "\t<dt>CHits</dt>\n",
       "\t\t<dd>0</dd>\n",
       "\t<dt>CHmRun</dt>\n",
       "\t\t<dd>0</dd>\n",
       "\t<dt>CRuns</dt>\n",
       "\t\t<dd>0</dd>\n",
       "\t<dt>CRBI</dt>\n",
       "\t\t<dd>0</dd>\n",
       "\t<dt>CWalks</dt>\n",
       "\t\t<dd>0</dd>\n",
       "\t<dt>LeagueN</dt>\n",
       "\t\t<dd>0</dd>\n",
       "\t<dt>DivisionW</dt>\n",
       "\t\t<dd>0</dd>\n",
       "\t<dt>PutOuts</dt>\n",
       "\t\t<dd>0</dd>\n",
       "\t<dt>Assists</dt>\n",
       "\t\t<dd>0</dd>\n",
       "\t<dt>Errors</dt>\n",
       "\t\t<dd>0</dd>\n",
       "\t<dt>NewLeagueN</dt>\n",
       "\t\t<dd>0</dd>\n",
       "</dl>\n"
      ],
      "text/latex": [
       "\\begin{description*}\n",
       "\\item[AtBat] 0.322476295723807\n",
       "\\item[Hits] 0.32213722639825\n",
       "\\item[HmRun] 0\n",
       "\\item[Runs] 0\n",
       "\\item[RBI] 0\n",
       "\\item[Walks] 0\n",
       "\\item[Years] 0\n",
       "\\item[CAtBat] 0\n",
       "\\item[CHits] 0\n",
       "\\item[CHmRun] 0\n",
       "\\item[CRuns] 0\n",
       "\\item[CRBI] 0\n",
       "\\item[CWalks] 0\n",
       "\\item[LeagueN] 0\n",
       "\\item[DivisionW] 0\n",
       "\\item[PutOuts] 0\n",
       "\\item[Assists] 0\n",
       "\\item[Errors] 0\n",
       "\\item[NewLeagueN] 0\n",
       "\\end{description*}\n"
      ],
      "text/markdown": [
       "AtBat\n",
       ":   0.322476295723807Hits\n",
       ":   0.32213722639825HmRun\n",
       ":   0Runs\n",
       ":   0RBI\n",
       ":   0Walks\n",
       ":   0Years\n",
       ":   0CAtBat\n",
       ":   0CHits\n",
       ":   0CHmRun\n",
       ":   0CRuns\n",
       ":   0CRBI\n",
       ":   0CWalks\n",
       ":   0LeagueN\n",
       ":   0DivisionW\n",
       ":   0PutOuts\n",
       ":   0Assists\n",
       ":   0Errors\n",
       ":   0NewLeagueN\n",
       ":   0\n",
       "\n"
      ],
      "text/plain": [
       "     AtBat       Hits      HmRun       Runs        RBI      Walks      Years \n",
       " 0.3224763  0.3221372  0.0000000  0.0000000  0.0000000  0.0000000  0.0000000 \n",
       "    CAtBat      CHits     CHmRun      CRuns       CRBI     CWalks    LeagueN \n",
       " 0.0000000  0.0000000  0.0000000  0.0000000  0.0000000  0.0000000  0.0000000 \n",
       " DivisionW    PutOuts    Assists     Errors NewLeagueN \n",
       " 0.0000000  0.0000000  0.0000000  0.0000000  0.0000000 "
      ]
     },
     "metadata": {},
     "output_type": "display_data"
    }
   ],
   "source": [
    "print(elnet$nzero)\n",
    "index = which(elnet$lambda == elnet$lambda.min)\n",
    "beta = elnet$glmnet.fit$beta[,index]\n",
    "beta"
   ]
  },
  {
   "cell_type": "code",
   "execution_count": 43,
   "metadata": {},
   "outputs": [
    {
     "data": {},
     "metadata": {},
     "output_type": "display_data"
    },
    {
     "data": {
      "image/png": "[encoded data removed]",
      "text/plain": [
       "plot without title"
      ]
     },
     "metadata": {},
     "output_type": "display_data"
    }
   ],
   "source": [
    "plot.trajectoire(elnet, colnames(MatDesign))"
   ]
  },
  {
   "cell_type": "markdown",
   "metadata": {},
   "source": [
    "## Question 10\n",
    "*Appliquer maintenant une méthode de type backward avec sélection AIC sur les données d’apprentissage pour choisir un modèle de régression linéaire basé des variables sélectionnées (par AIC).*"
   ]
  },
  {
   "cell_type": "code",
   "execution_count": 45,
   "metadata": {},
   "outputs": [
    {
     "name": "stdout",
     "output_type": "stream",
     "text": [
      "Start:  AIC=1511.66\n",
      "Salary ~ AtBat + Hits + HmRun + Runs + RBI + Walks + Years + \n",
      "    CAtBat + CHits + CHmRun + CRuns + CRBI + CWalks + League + \n",
      "    Division + PutOuts + Assists + Errors + NewLeague\n",
      "\n",
      "            Df Sum of Sq      RSS    AIC\n",
      "- Years      1        45  9912111 1509.7\n",
      "- NewLeague  1      7187  9919253 1509.8\n",
      "- CAtBat     1     11970  9924036 1509.8\n",
      "- CHits      1     25954  9938020 1510.0\n",
      "- League     1     76351  9988418 1510.7\n",
      "- PutOuts    1    106379 10018445 1511.1\n",
      "- Errors     1    112630 10024696 1511.1\n",
      "- CHmRun     1    143522 10055588 1511.5\n",
      "<none>                    9912066 1511.7\n",
      "- AtBat      1    154936 10067002 1511.7\n",
      "- Runs       1    218335 10130402 1512.5\n",
      "- RBI        1    220161 10132227 1512.5\n",
      "- HmRun      1    248861 10160928 1512.9\n",
      "- CRuns      1    262030 10174096 1513.1\n",
      "- Assists    1    330219 10242285 1514.0\n",
      "- CRBI       1    362319 10274385 1514.4\n",
      "- Division   1    401471 10313537 1514.9\n",
      "- Hits       1    468197 10380263 1515.7\n",
      "- CWalks     1    669579 10581645 1518.2\n",
      "- Walks      1    713619 10625685 1518.8\n",
      "\n",
      "Step:  AIC=1509.66\n",
      "Salary ~ AtBat + Hits + HmRun + Runs + RBI + Walks + CAtBat + \n",
      "    CHits + CHmRun + CRuns + CRBI + CWalks + League + Division + \n",
      "    PutOuts + Assists + Errors + NewLeague\n",
      "\n",
      "            Df Sum of Sq      RSS    AIC\n",
      "- NewLeague  1      7164  9919274 1507.8\n",
      "- CAtBat     1     19169  9931279 1507.9\n",
      "- CHits      1     27462  9939572 1508.0\n",
      "- League     1     77505  9989616 1508.7\n",
      "- PutOuts    1    106819 10018930 1509.1\n",
      "- Errors     1    112677 10024788 1509.1\n",
      "- CHmRun     1    145294 10057405 1509.6\n",
      "<none>                    9912111 1509.7\n",
      "- AtBat      1    168231 10080341 1509.9\n",
      "- Runs       1    219352 10131463 1510.5\n",
      "- RBI        1    220117 10132228 1510.5\n",
      "- HmRun      1    249440 10161550 1510.9\n",
      "- CRuns      1    262377 10174488 1511.1\n",
      "- Assists    1    332148 10244259 1512.0\n",
      "- CRBI       1    363581 10275692 1512.4\n",
      "- Division   1    401700 10313811 1512.9\n",
      "- Hits       1    488812 10400923 1514.0\n",
      "- CWalks     1    676831 10588942 1516.3\n",
      "- Walks      1    725371 10637482 1516.9\n",
      "\n",
      "Step:  AIC=1507.76\n",
      "Salary ~ AtBat + Hits + HmRun + Runs + RBI + Walks + CAtBat + \n",
      "    CHits + CHmRun + CRuns + CRBI + CWalks + League + Division + \n",
      "    PutOuts + Assists + Errors\n",
      "\n",
      "           Df Sum of Sq      RSS    AIC\n",
      "- CAtBat    1     16430  9935704 1506.0\n",
      "- CHits     1     31380  9950654 1506.2\n",
      "- PutOuts   1    110003 10029278 1507.2\n",
      "- Errors    1    115834 10035109 1507.3\n",
      "- CHmRun    1    149206 10068480 1507.7\n",
      "<none>                   9919274 1507.8\n",
      "- League    1    155921 10075195 1507.8\n",
      "- AtBat     1    170796 10090070 1508.0\n",
      "- Runs      1    217409 10136684 1508.6\n",
      "- RBI       1    219454 10138729 1508.6\n",
      "- HmRun     1    249626 10168900 1509.0\n",
      "- CRuns     1    267333 10186607 1509.2\n",
      "- Assists   1    336746 10256020 1510.1\n",
      "- CRBI      1    367744 10287019 1510.5\n",
      "- Division  1    397007 10316281 1510.9\n",
      "- Hits      1    491171 10410446 1512.1\n",
      "- CWalks    1    674167 10593441 1514.4\n",
      "- Walks     1    720551 10639826 1514.9\n",
      "\n",
      "Step:  AIC=1505.97\n",
      "Salary ~ AtBat + Hits + HmRun + Runs + RBI + Walks + CHits + \n",
      "    CHmRun + CRuns + CRBI + CWalks + League + Division + PutOuts + \n",
      "    Assists + Errors\n",
      "\n",
      "           Df Sum of Sq      RSS    AIC\n",
      "- Errors    1    109660 10045365 1505.4\n",
      "- PutOuts   1    112919 10048623 1505.5\n",
      "<none>                   9935704 1506.0\n",
      "- League    1    155363 10091067 1506.0\n",
      "- CHits     1    194078 10129782 1506.5\n",
      "- CHmRun    1    211353 10147057 1506.7\n",
      "- AtBat     1    222289 10157993 1506.9\n",
      "- RBI       1    228648 10164352 1507.0\n",
      "- Runs      1    245044 10180748 1507.2\n",
      "- HmRun     1    265594 10201299 1507.4\n",
      "- Assists   1    320699 10256403 1508.1\n",
      "- CRuns     1    387439 10323144 1509.0\n",
      "- Division  1    395447 10331151 1509.1\n",
      "- CRBI      1    426283 10361987 1509.5\n",
      "- Hits      1    636761 10572465 1512.1\n",
      "- Walks     1    799496 10735200 1514.1\n",
      "- CWalks    1   1125679 11061383 1518.0\n",
      "\n",
      "Step:  AIC=1505.41\n",
      "Salary ~ AtBat + Hits + HmRun + Runs + RBI + Walks + CHits + \n",
      "    CHmRun + CRuns + CRBI + CWalks + League + Division + PutOuts + \n",
      "    Assists\n",
      "\n",
      "           Df Sum of Sq      RSS    AIC\n",
      "- PutOuts   1     83001 10128365 1504.5\n",
      "- League    1    119858 10165223 1505.0\n",
      "<none>                  10045365 1505.4\n",
      "- CHits     1    204165 10249529 1506.0\n",
      "- CHmRun    1    212341 10257706 1506.2\n",
      "- Assists   1    219889 10265254 1506.2\n",
      "- RBI       1    234471 10279835 1506.4\n",
      "- HmRun     1    242045 10287410 1506.5\n",
      "- Runs      1    255588 10300952 1506.7\n",
      "- AtBat     1    322208 10367573 1507.5\n",
      "- CRuns     1    412687 10458051 1508.7\n",
      "- CRBI      1    438196 10483561 1509.0\n",
      "- Division  1    447187 10492551 1509.1\n",
      "- Hits      1    800950 10846315 1513.5\n",
      "- Walks     1    888044 10933408 1514.5\n",
      "- CWalks    1   1204911 11250275 1518.2\n",
      "\n",
      "Step:  AIC=1504.49\n",
      "Salary ~ AtBat + Hits + HmRun + Runs + RBI + Walks + CHits + \n",
      "    CHmRun + CRuns + CRBI + CWalks + League + Division + Assists\n",
      "\n",
      "           Df Sum of Sq      RSS    AIC\n",
      "- League    1    125183 10253549 1504.1\n",
      "<none>                  10128365 1504.5\n",
      "- CHits     1    164878 10293243 1504.6\n",
      "- Assists   1    177312 10305677 1504.8\n",
      "- CHmRun    1    196128 10324493 1505.0\n",
      "- RBI       1    222306 10350672 1505.3\n",
      "- HmRun     1    235071 10363437 1505.5\n",
      "- AtBat     1    257514 10385879 1505.8\n",
      "- Runs      1    318591 10446956 1506.5\n",
      "- CRuns     1    359880 10488245 1507.1\n",
      "- CRBI      1    414218 10542583 1507.7\n",
      "- Division  1    487254 10615620 1508.7\n",
      "- Hits      1    749196 10877561 1511.8\n",
      "- Walks     1    993638 11122004 1514.8\n",
      "- CWalks    1   1234753 11363118 1517.6\n",
      "\n",
      "Step:  AIC=1504.1\n",
      "Salary ~ AtBat + Hits + HmRun + Runs + RBI + Walks + CHits + \n",
      "    CHmRun + CRuns + CRBI + CWalks + Division + Assists\n",
      "\n",
      "           Df Sum of Sq      RSS    AIC\n",
      "- CHits     1    156533 10410082 1504.1\n",
      "<none>                  10253549 1504.1\n",
      "- Assists   1    173664 10427213 1504.3\n",
      "- CHmRun    1    204513 10458062 1504.7\n",
      "- AtBat     1    225808 10479357 1505.0\n",
      "- HmRun     1    231531 10485080 1505.0\n",
      "- RBI       1    235955 10489503 1505.1\n",
      "- CRuns     1    336575 10590124 1506.3\n",
      "- Runs      1    336644 10590193 1506.3\n",
      "- CRBI      1    426668 10680216 1507.4\n",
      "- Division  1    503378 10756927 1508.4\n",
      "- Hits      1    698245 10951793 1510.7\n",
      "- Walks     1    998229 11251777 1514.3\n",
      "- CWalks    1   1206645 11460194 1516.7\n",
      "\n",
      "Step:  AIC=1504.08\n",
      "Salary ~ AtBat + Hits + HmRun + Runs + RBI + Walks + CHmRun + \n",
      "    CRuns + CRBI + CWalks + Division + Assists\n",
      "\n",
      "           Df Sum of Sq      RSS    AIC\n",
      "- CHmRun    1     49757 10459838 1502.7\n",
      "- HmRun     1    141280 10551362 1503.8\n",
      "- RBI       1    155855 10565937 1504.0\n",
      "<none>                  10410082 1504.1\n",
      "- Assists   1    217998 10628080 1504.8\n",
      "- Runs      1    224745 10634827 1504.9\n",
      "- CRuns     1    283780 10693862 1505.6\n",
      "- AtBat     1    284461 10694543 1505.6\n",
      "- CRBI      1    353748 10763829 1506.5\n",
      "- Division  1    531573 10941654 1508.6\n",
      "- Hits      1    620472 11030554 1509.7\n",
      "- CWalks    1   1060293 11470375 1514.8\n",
      "- Walks     1   1103450 11513532 1515.3\n",
      "\n",
      "Step:  AIC=1502.71\n",
      "Salary ~ AtBat + Hits + HmRun + Runs + RBI + Walks + CRuns + \n",
      "    CRBI + CWalks + Division + Assists\n",
      "\n",
      "           Df Sum of Sq      RSS    AIC\n",
      "- HmRun     1     98100 10557938 1501.9\n",
      "- RBI       1    117682 10577520 1502.2\n",
      "<none>                  10459838 1502.7\n",
      "- Assists   1    231088 10690927 1503.6\n",
      "- Runs      1    273389 10733227 1504.1\n",
      "- AtBat     1    321356 10781194 1504.7\n",
      "- Division  1    534300 10994139 1507.2\n",
      "- CRuns     1    545389 11005227 1507.4\n",
      "- CRBI      1    550008 11009846 1507.4\n",
      "- Hits      1    704420 11164258 1509.2\n",
      "- Walks     1   1093284 11553122 1513.7\n",
      "- CWalks    1   1195154 11654993 1514.9\n",
      "\n",
      "Step:  AIC=1501.93\n",
      "Salary ~ AtBat + Hits + Runs + RBI + Walks + CRuns + CRBI + CWalks + \n",
      "    Division + Assists\n",
      "\n",
      "           Df Sum of Sq      RSS    AIC\n",
      "- RBI       1     26158 10584096 1500.3\n",
      "<none>                  10557938 1501.9\n",
      "- Runs      1    187168 10745106 1502.2\n",
      "- Assists   1    197151 10755088 1502.4\n",
      "- AtBat     1    313292 10871230 1503.8\n",
      "- CRuns     1    489832 11047770 1505.9\n",
      "- Division  1    511457 11069395 1506.1\n",
      "- Hits      1    607883 11165821 1507.3\n",
      "- CRBI      1    616910 11174848 1507.4\n",
      "- Walks     1   1004130 11562068 1511.8\n",
      "- CWalks    1   1137190 11695127 1513.3\n"
     ]
    },
    {
     "name": "stdout",
     "output_type": "stream",
     "text": [
      "\n",
      "Step:  AIC=1500.26\n",
      "Salary ~ AtBat + Hits + Runs + Walks + CRuns + CRBI + CWalks + \n",
      "    Division + Assists\n",
      "\n",
      "           Df Sum of Sq      RSS    AIC\n",
      "<none>                  10584096 1500.3\n",
      "- Runs      1    204725 10788821 1500.8\n",
      "- Assists   1    218032 10802128 1500.9\n",
      "- AtBat     1    363369 10947465 1502.7\n",
      "- Division  1    506503 11090599 1504.4\n",
      "- Hits      1    596887 11180983 1505.4\n",
      "- CRuns     1    605261 11189357 1505.5\n",
      "- CRBI      1    647810 11231905 1506.0\n",
      "- Walks     1    986453 11570549 1509.9\n",
      "- CWalks    1   1126780 11710875 1511.5\n"
     ]
    },
    {
     "data": {
      "text/plain": [
       "\n",
       "Call:\n",
       "lm(formula = Salary ~ AtBat + Hits + Runs + Walks + CRuns + CRBI + \n",
       "    CWalks + Division + Assists, data = Hitters.train)\n",
       "\n",
       "Residuals:\n",
       "    Min      1Q  Median      3Q     Max \n",
       "-621.69 -145.45  -33.37  112.55 1874.86 \n",
       "\n",
       "Coefficients:\n",
       "             Estimate Std. Error t value Pr(>|t|)    \n",
       "(Intercept)  202.6196    84.0137   2.412  0.01738 *  \n",
       "AtBat         -1.6624     0.8156  -2.038  0.04371 *  \n",
       "Hits           7.0996     2.7178   2.612  0.01013 *  \n",
       "Runs          -4.7640     3.1140  -1.530  0.12866    \n",
       "Walks          7.6025     2.2639   3.358  0.00105 ** \n",
       "CRuns          0.8263     0.3141   2.630  0.00963 ** \n",
       "CRBI           0.6349     0.2333   2.721  0.00746 ** \n",
       "CWalks        -1.2680     0.3533  -3.589  0.00048 ***\n",
       "DivisionW   -125.6056    52.1978  -2.406  0.01763 *  \n",
       "Assists        0.3258     0.2063   1.579  0.11699    \n",
       "---\n",
       "Signif. codes:  0 '***' 0.001 '**' 0.01 '*' 0.05 '.' 0.1 ' ' 1\n",
       "\n",
       "Residual standard error: 295.8 on 121 degrees of freedom\n",
       "Multiple R-squared:  0.4616,\tAdjusted R-squared:  0.4216 \n",
       "F-statistic: 11.53 on 9 and 121 DF,  p-value: 6.458e-13\n"
      ]
     },
     "metadata": {},
     "output_type": "display_data"
    }
   ],
   "source": [
    "library(MASS)\n",
    "Hitters.backwards = stepAIC(Hitters.lm,direction = \"backward\")\n",
    "summary(Hitters.backwards)"
   ]
  },
  {
   "cell_type": "markdown",
   "metadata": {},
   "source": [
    "## Question 11\n",
    "*On souhaite comparer les erreurs RMSE des 5 modèles construits précédemment, en utilisant uniquement l’échantillon d’apprentissage pour le moment. On utilise pour cela la librairire caret. On donne le début du code pour deux des cinq modèles (lasso et régression linéaire sur toutes les variables).*"
   ]
  },
  {
   "cell_type": "code",
   "execution_count": 47,
   "metadata": {
    "scrolled": true
   },
   "outputs": [
    {
     "name": "stderr",
     "output_type": "stream",
     "text": [
      "Warning message in read.dcf(file.path(p, \"DESCRIPTION\"), c(\"Package\", \"Version\")):\n",
      "\"impossible d'ouvrir le fichier compressé 'C:/Users/acer/Documents/R/win-library/3.5/glmnet/DESCRIPTION', cause probable : 'No such file or directory'\""
     ]
    },
    {
     "name": "stdout",
     "output_type": "stream",
     "text": [
      "1 package is needed for this model and is not installed. (glmnet). Would you like to try to install it now?"
     ]
    },
    {
     "ename": "ERROR",
     "evalue": "Error: Required package is missing\n",
     "output_type": "error",
     "traceback": [
      "Error: Required package is missing\nTraceback:\n",
      "1. train(Salary ~ ., data = Hitters.train, trControl = data_ctrl, \n .     method = \"glmnet\", tuneGrid = expand.grid(alpha = 1, lambda = lam_seq))",
      "2. train.formula(Salary ~ ., data = Hitters.train, trControl = data_ctrl, \n .     method = \"glmnet\", tuneGrid = expand.grid(alpha = 1, lambda = lam_seq))",
      "3. train(x, y, weights = w, ...)",
      "4. train.default(x, y, weights = w, ...)",
      "5. checkInstall(models$library)",
      "6. stop(\"Required package is missing\", call. = FALSE)"
     ]
    }
   ],
   "source": [
    "data_ctrl = trainControl(method = \"repeatedcv\", number = 5, repeats = 10)\n",
    "lam_seq = seq(0.1, 30, by = 0.1)\n",
    "alpha_seq = seq(0, 1, by = 0.1)\n",
    "\n",
    "Hitters.lm.caret <- train(Salary ~ .,\n",
    "    data = Hitters.train,\n",
    "    trControl = data_ctrl,\n",
    "    method = \"lm\")\n",
    "\n",
    "Hitters.lasso.caret <- train(Salary ~ .,\n",
    "    data = Hitters.train,\n",
    "    trControl = data_ctrl,\n",
    "    method = \"glmnet\",\n",
    "    tuneGrid = expand.grid(alpha = 1, lambda = lam_seq))\n",
    "\n",
    "Hitters.ridge.caret <- train(Salary ~ .,\n",
    "    data = Hitters.train,\n",
    "    trControl = data_ctrl,\n",
    "    method = \"glmnet\",\n",
    "    tuneGrid = expand.grid(alpha = 0, lambda = lam_seq))\n",
    "\n",
    "Hitters.elnet.caret <- train(Salary ~ .,\n",
    "    data = Hitters.train,\n",
    "    trControl = data_ctrl,\n",
    "    method = \"glmnet\",\n",
    "    tuneGrid = expand.grid(alpha = alpha_seq, lambda = lam_seq))\n",
    "\n",
    "Hitters.steplm.caret <- train(Salary ~ .,\n",
    "    data = Hitters.train,\n",
    "    trControl = data_ctrl,\n",
    "    method = \"glmStepAIC\")\n",
    "\n",
    "models = list(\n",
    "    lm = Hitters.lm.caret,\n",
    "    lasso = Hitters.lasso.caret,\n",
    "    ridge = Hitters.ridge.caret,\n",
    "    elnet = Hitters.elnet.caret,\n",
    "    steplm = Hitters.steplm.caret\n",
    ")\n",
    "results = resamples(models)"
   ]
  },
  {
   "cell_type": "code",
   "execution_count": 222,
   "metadata": {},
   "outputs": [
    {
     "data": {
      "text/plain": [
       "\n",
       "Call:\n",
       "summary.resamples(object = results)\n",
       "\n",
       "Models: lm, lasso, ridge, elnet, steplm \n",
       "Number of resamples: 5 \n",
       "\n",
       "MAE \n",
       "           Min.  1st Qu.   Median     Mean  3rd Qu.     Max. NA's\n",
       "lm     223.4047 246.7809 247.1477 248.3901 248.4478 276.1696    0\n",
       "lasso  227.1154 234.9962 235.1181 246.9455 256.9611 280.5367    0\n",
       "ridge  181.2195 241.7605 252.7484 239.1802 253.5013 266.6716    0\n",
       "elnet  184.2406 224.2496 246.4657 239.9028 257.0805 287.4775    0\n",
       "steplm 202.3170 250.4809 256.3723 263.2527 299.6330 307.4604    0\n",
       "\n",
       "RMSE \n",
       "           Min.  1st Qu.   Median     Mean  3rd Qu.     Max. NA's\n",
       "lm     314.1756 333.8150 368.8052 363.9757 369.7174 433.3656    0\n",
       "lasso  273.3750 349.0028 369.6570 355.0086 387.4266 395.5816    0\n",
       "ridge  303.9164 358.7292 362.6434 355.5723 363.7838 388.7887    0\n",
       "elnet  313.1787 335.9489 338.1746 350.4152 346.5014 418.2725    0\n",
       "steplm 321.2315 352.1151 364.7174 367.9265 376.6424 424.9259    0\n",
       "\n",
       "Rsquared \n",
       "            Min.   1st Qu.    Median      Mean   3rd Qu.      Max. NA's\n",
       "lm     0.2607637 0.3049664 0.4799924 0.4776603 0.6689951 0.6735837    0\n",
       "lasso  0.3919853 0.4106581 0.4906054 0.4844034 0.5410510 0.5877174    0\n",
       "ridge  0.2995421 0.3217578 0.4128451 0.5122472 0.7260865 0.8010045    0\n",
       "elnet  0.4441194 0.4855852 0.5037711 0.5035082 0.5047461 0.5793190    0\n",
       "steplm 0.3155865 0.3451153 0.5804110 0.4874612 0.5927441 0.6034491    0\n"
      ]
     },
     "metadata": {},
     "output_type": "display_data"
    },
    {
     "data": {},
     "metadata": {},
     "output_type": "display_data"
    },
    {
     "data": {
      "image/png": "[encoded data removed]",
      "text/plain": [
       "plot without title"
      ]
     },
     "metadata": {},
     "output_type": "display_data"
    }
   ],
   "source": [
    "summary(results)\n",
    "bwplot(results)"
   ]
  },
  {
   "cell_type": "code",
   "execution_count": 288,
   "metadata": {},
   "outputs": [
    {
     "data": {
      "text/html": [
       "<table>\n",
       "<thead><tr><th></th><th scope=col>RMSE.train</th><th scope=col>RMSE.test</th></tr></thead>\n",
       "<tbody>\n",
       "\t<tr><th scope=row>lm</th><td>3186.787</td><td>4067.064</td></tr>\n",
       "\t<tr><th scope=row>lasso</th><td>3571.878</td><td>3879.266</td></tr>\n",
       "\t<tr><th scope=row>ridge</th><td>3379.073</td><td>3871.920</td></tr>\n",
       "\t<tr><th scope=row>elnet</th><td>3556.905</td><td>3893.797</td></tr>\n",
       "\t<tr><th scope=row>steplm</th><td>3250.651</td><td>3921.155</td></tr>\n",
       "</tbody>\n",
       "</table>\n"
      ],
      "text/latex": [
       "\\begin{tabular}{r|ll}\n",
       "  & RMSE.train & RMSE.test\\\\\n",
       "\\hline\n",
       "\tlm & 3186.787 & 4067.064\\\\\n",
       "\tlasso & 3571.878 & 3879.266\\\\\n",
       "\tridge & 3379.073 & 3871.920\\\\\n",
       "\telnet & 3556.905 & 3893.797\\\\\n",
       "\tsteplm & 3250.651 & 3921.155\\\\\n",
       "\\end{tabular}\n"
      ],
      "text/markdown": [
       "\n",
       "| <!--/--> | RMSE.train | RMSE.test | \n",
       "|---|---|---|---|---|\n",
       "| lm | 3186.787 | 4067.064 | \n",
       "| lasso | 3571.878 | 3879.266 | \n",
       "| ridge | 3379.073 | 3871.920 | \n",
       "| elnet | 3556.905 | 3893.797 | \n",
       "| steplm | 3250.651 | 3921.155 | \n",
       "\n",
       "\n"
      ],
      "text/plain": [
       "       RMSE.train RMSE.test\n",
       "lm     3186.787   4067.064 \n",
       "lasso  3571.878   3879.266 \n",
       "ridge  3379.073   3871.920 \n",
       "elnet  3556.905   3893.797 \n",
       "steplm 3250.651   3921.155 "
      ]
     },
     "metadata": {},
     "output_type": "display_data"
    }
   ],
   "source": [
    "rmse = function(data, fit) {\n",
    "    mat = model.matrix(Salary ~ ., data)[,-1]\n",
    "    is.glmnet = sum(class(fit) == \"glmnet\")\n",
    "    a = data$Salary\n",
    "    p = if (is.glmnet) {\n",
    "        lambda = fit$lambdaOpt\n",
    "        predict(fit, mat, s = c(lambda))[,1]\n",
    "    } else {\n",
    "        predict(fit, data.frame(mat))\n",
    "    }\n",
    "    sqrt(sum((p - a)^2))\n",
    "}\n",
    "\n",
    "final = purrr::reduce(models, function(matrix, model) {\n",
    "    rbind(matrix, c(\n",
    "        rmse(Hitters.train, model$finalModel),\n",
    "        rmse(Hitters.test, model$finalModel)\n",
    "    ))\n",
    "}, .init = c())\n",
    "\n",
    "colnames(final) = c(\"RMSE.train\", \"RMSE.test\")\n",
    "rownames(final) = results$models\n",
    "\n",
    "final"
   ]
  }
 ],
 "metadata": {
  "kernelspec": {
   "display_name": "R",
   "language": "R",
   "name": "ir"
  },
  "language_info": {
   "codemirror_mode": "r",
   "file_extension": ".r",
   "mimetype": "text/x-r-source",
   "name": "R",
   "pygments_lexer": "r",
   "version": "3.6.1"
  }
 },
 "nbformat": 4,
 "nbformat_minor": 2
}
