{
 "cells": [
  {
   "cell_type": "markdown",
   "metadata": {},
   "source": [
    "# Algorithmes de descentes de gradient\n",
    "\n",
    "### *Alexandre TRENDEL, Nicolas HUBERT*\n",
    "\n",
    "\n",
    "Dans ce TP nous allons implémenter les algorithmes d'optimisation  \n",
    "- gradient descent (GD)\n",
    "- accelerated gradient descent (AGD)\n",
    "- coordinate gradient descent (CD)  \n",
    "\n",
    "dans le cadre du modèle de régression linéaire et du modèle de régression logistique, avec pénalisation ridge."
   ]
  },
  {
   "cell_type": "code",
   "execution_count": 1,
   "metadata": {},
   "outputs": [],
   "source": [
    "import numpy as np\n",
    "import matplotlib.pyplot as plt\n",
    "\n",
    "%matplotlib inline\n",
    "\n",
    "np.set_printoptions(precision=2)  # to have simpler print outputs with numpy"
   ]
  },
  {
   "cell_type": "markdown",
   "metadata": {},
   "source": [
    "# 1. Modèles génératifs\n"
   ]
  },
  {
   "cell_type": "markdown",
   "metadata": {},
   "source": [
    "## 1.1 Simulation du modèle de régression linéaire\n",
    "\n",
    "\n",
    "Nous commençons par simuler la matrice de design en simulant `n_samples` observations selon la loi d'un\n",
    "vecteur gaussien de loi $\\mathcal N_{n_{features}} (0, Corr)$.  \n",
    "Nous choisissons pour $Corr$ une matrice de Toeplitz.\n",
    "On simule ensuite $y_i$ selon le modèle de régression :\n",
    "$$ y_i = x_i^\\top w_0 + std  \\ \\epsilon_i $$\n",
    "où $\\epsilon_i \\sim \\mathcal{N}(0,1)$ et où $x_i \\in \\mathbb R^d$ est le vecteur de la i-ème observation i.e. la ligne $i$ de la matrice de design $X$.\n",
    "\n",
    "> Compléter la fonction `simu_linreg` ci-dessous en utilisant la fonction `multivariate_normal` de numpy. Vérifier avec le bloc de code qui suit que la fonction fonctionne bien."
   ]
  },
  {
   "cell_type": "code",
   "execution_count": 2,
   "metadata": {},
   "outputs": [],
   "source": [
    "from numpy.random import multivariate_normal\n",
    "from scipy.linalg.special_matrices import toeplitz\n",
    "from numpy.random import randn\n",
    "\n",
    "\n",
    "def simu_linreg(w0, n_samples=1000, corr=0.5, std=0.5):\n",
    "    \"\"\"Simulation of a linear regression model with Gaussian features\n",
    "    and a Toeplitz covariance, with Gaussian noise.\n",
    "    \n",
    "    Parameters\n",
    "    ----------\n",
    "    w0 : `numpy.array`, shape=(n_features,)\n",
    "        Model weights\n",
    "    \n",
    "    n_samples : `int`, default=1000\n",
    "        Number of samples to simulate\n",
    "    \n",
    "    corr : `float`, default=0.5\n",
    "        Correlation of the features\n",
    "    \n",
    "    std : `float`, default=0.5\n",
    "        Standard deviation of the noise\n",
    "\n",
    "    Returns\n",
    "    -------\n",
    "    X : `numpy.ndarray`, shape=(n_samples, n_features)\n",
    "        Simulated features matrix. It contains samples of a centered \n",
    "        Gaussian vector with Toeplitz covariance.\n",
    "    \n",
    "    y : `numpy.array`, shape=(n_samples,)\n",
    "        Simulated labels\n",
    "    \"\"\"\n",
    "    n_features = w0.shape[0]\n",
    "    # Construction of a covariance matrix\n",
    "    cov = toeplitz(corr ** np.arange(0, n_features))\n",
    "    X = multivariate_normal(np.zeros(n_features,), cov, size = n_samples)\n",
    "    y = np.apply_along_axis(lambda xi: np.transpose(xi) @ w0 + std, 1, X)\n",
    "    return X, y"
   ]
  },
  {
   "cell_type": "code",
   "execution_count": 3,
   "metadata": {
    "scrolled": false
   },
   "outputs": [
    {
     "data": {
      "text/plain": [
       "<matplotlib.legend.Legend at 0x7f9793e07080>"
      ]
     },
     "execution_count": 3,
     "metadata": {},
     "output_type": "execute_result"
    },
    {
     "data": {
      "image/png": "[encoded data removed]",
      "text/plain": [
       "<Figure size 432x288 with 1 Axes>"
      ]
     },
     "metadata": {
      "needs_background": "light"
     },
     "output_type": "display_data"
    }
   ],
   "source": [
    "n_samples = 500\n",
    "w0 = np.array([0.5])\n",
    "\n",
    "X, y = simu_linreg(w0, n_samples=n_samples, corr=0.3, std=0.5)\n",
    "\n",
    "plt.scatter(X, y)\n",
    "plt.xlabel(\"$x_i$\", fontsize=16)\n",
    "plt.ylabel(\"$y_i$\", fontsize=16)\n",
    "plt.title(\"Linear regression simulation\", fontsize=18)\n",
    "plt.scatter(X, y, label='data')\n",
    "plt.legend()"
   ]
  },
  {
   "cell_type": "markdown",
   "metadata": {},
   "source": [
    "## 1.2 Simulation d'un modèle de régression logistique\n",
    "\n",
    "On simule la matrice de design comme précédemment. On simule ensuite les labels $y_i$ selon le modèle de régression logistique :\n",
    "$$ y_i  \\sim \\mathcal{B}ern(p_i)$$\n",
    "avec $$ p_i = sigmoid \\left( x_i^\\top w_0 \\right) .$$\n",
    "\n",
    "> Compléter la fonction `simu_linreg` en utilisant les fonctions `multivariate_normal` et `random.binomial`de numpy."
   ]
  },
  {
   "cell_type": "code",
   "execution_count": 4,
   "metadata": {},
   "outputs": [],
   "source": [
    "def sigmoid(t):\n",
    "    \"\"\"Sigmoid function\"\"\"\n",
    "    idx = t > 0\n",
    "    out = np.empty(t.size)    \n",
    "    out[idx] = 1 / (1. + np.exp(-t[idx]))\n",
    "    exp_t = np.exp(t[~idx])\n",
    "    out[~idx] = exp_t / (1. + exp_t)\n",
    "    return out\n",
    "\n",
    "def simu_logreg(w0, n_samples=1000, corr=0.5):\n",
    "    \"\"\"Simulation of a logistic regression model with Gaussian features\n",
    "    and a Toeplitz covariance.\n",
    "    \n",
    "    Parameters\n",
    "    ----------\n",
    "    w0 : `numpy.array`, shape=(n_features,)\n",
    "        Model weights\n",
    "    \n",
    "    n_samples : `int`, default=1000\n",
    "        Number of samples to simulate\n",
    "    \n",
    "    corr : `float`, default=0.5\n",
    "        Correlation of the features\n",
    "\n",
    "    Returns\n",
    "    -------\n",
    "    X : `numpy.ndarray`, shape=(n_samples, n_features)\n",
    "        Simulated features matrix. It contains samples of a centered \n",
    "        Gaussian vector with Toeplitz covariance.\n",
    "    \n",
    "    y : `numpy.array`, shape=(n_samples,)\n",
    "        Simulated labels\n",
    "    \"\"\"\n",
    "    n_features = w0.shape[0]\n",
    "    cov = toeplitz(corr ** np.arange(0, n_features))\n",
    "    X = multivariate_normal(np.zeros((n_features)), cov, size = n_samples)\n",
    "    y = np.random.binomial(n = 1, p = sigmoid(X @ w0))\n",
    "    return X, y"
   ]
  },
  {
   "cell_type": "code",
   "execution_count": 5,
   "metadata": {},
   "outputs": [
    {
     "data": {
      "text/plain": [
       "Text(0.5,1,'Logistic regression simulation')"
      ]
     },
     "execution_count": 5,
     "metadata": {},
     "output_type": "execute_result"
    },
    {
     "data": {
      "image/png": "[encoded data removed]",
      "text/plain": [
       "<Figure size 432x288 with 1 Axes>"
      ]
     },
     "metadata": {
      "needs_background": "light"
     },
     "output_type": "display_data"
    }
   ],
   "source": [
    "n_samples = 500\n",
    "w0 = np.array([-3., 3.])\n",
    "\n",
    "X, y = simu_logreg(w0, n_samples=n_samples, corr=0.4)\n",
    "\n",
    "plt.scatter(*X[y == 1].T, color='b', s=10, label=r'$y_i=1$')\n",
    "plt.scatter(*X[y == 0].T, color='r', s=10, label=r'$y_i=0$')\n",
    "plt.legend(loc='upper left')\n",
    "plt.xlabel(r\"$x_i^1$\", fontsize=16)\n",
    "plt.ylabel(r\"$x_i^2$\", fontsize=16)\n",
    "plt.title(\"Logistic regression simulation\", fontsize=18)"
   ]
  },
  {
   "cell_type": "markdown",
   "metadata": {},
   "source": [
    "# 2. Gradients et pertes\n",
    "\n",
    "Nous voulons minimiser une fonction d'attache aux données $f$ avec une pénalisation ridge :\n",
    "$$\n",
    "\\arg\\min_{w \\in \\mathbb R^d} \\Big\\{ f(w) + \\frac{\\lambda}{2} \\|w\\|_2^2 \\Big\\}\n",
    "$$\n",
    "où $d$ est le nombre de features et où l'on suppose que  $f$ est $L$-smooth.  \n",
    "\n",
    "\n",
    "On considère les deux modèles :\n",
    "\n",
    "**Regression Linéaire**\n",
    "$$\n",
    "f(w) = \\frac 1n \\sum_{i=1}^n f_i(w) = \\frac{1}{2n} \\sum_{i=1}^n (y_i - x_i^\\top w)^2 + \\frac{\\lambda}{2} \\|w\\|_2^2 = \\frac{1}{2 n} \\| y - X w \\|_2^2 + \\frac{\\lambda}{2} \\|w\\|_2^2,\n",
    "$$\n",
    "où $n$ est la taille de l'échantillon et $x_i \\in \\mathbb R^d$ est le vecteur de la i-ème observation (ligne $i$ de la matrice de design $X$).\n",
    "\n",
    "**Regression logistique** \n",
    "$$\n",
    "f(w) = \\frac 1n \\sum_{i=1}^n f_i(w) = \\frac{1}{n} \\sum_{i=1}^n \\left\\{ - y_i ( x_i^\\top w )  + \n",
    "\\log \\left(1 + \\exp(x_i^\\top w)  \\right) \n",
    "\\right\\} \n",
    "+ \\frac{\\lambda}{2} \\|w\\|_2^2,\n",
    "$$\n",
    "où $n$ est la taille de l'échantillon  et $y_i \\in \\{ 0, 1 \\}$ pour tout $i$.\n",
    "\n",
    "Nous allons calculer $f(w)$, son gradient $\\nabla f(w)$ et  $\\frac{\\partial f(w)}{\\partial w_j}$ pour tout coordonnée $j$.\n",
    "\n",
    "> Pour quel algorithme est il nécessaire de calculer $\\frac{\\partial f(w)}{\\partial w_j}$ ?\n",
    "\n"
   ]
  },
  {
   "cell_type": "markdown",
   "metadata": {},
   "source": [
    "Il est nécessaire de calculer $\\frac{\\partial f(w)}{\\partial w_j}$ pour les algorithmes de descente de coordonnées cycliques (CGD et PCGD)."
   ]
  },
  {
   "cell_type": "markdown",
   "metadata": {},
   "source": [
    "## 2.1 Une classe python pour f en régression linéaire\n",
    "\n",
    "\n",
    "Notez que dans le cas de la pénalisation ridge il n'est pas nécessaire de faire appel à un opérateur proximal dans les algorithme de descente de gradient car La pénalité ridge est différentiable. \n",
    "\n",
    "On définit ci-dessous une classe python pour les informations sur l'attachae aux données $f$ pour le modèle de la régression linéaire. \n",
    "\n",
    "Voir par exemple [ici](https://www.courspython.com/classes-et-objets.html) pour quelques rappels sur les classes en python.\n",
    "        \n",
    "> Justifier les valeurs choisies pour les constantes de Lipschitz.\n"
   ]
  },
  {
   "cell_type": "markdown",
   "metadata": {},
   "source": [
    "La constante de Lipschitz est majorée par la plus grand valeur propre de la matrice hessienne associée à $f$."
   ]
  },
  {
   "cell_type": "code",
   "execution_count": 6,
   "metadata": {
    "scrolled": false
   },
   "outputs": [],
   "source": [
    "from numpy.linalg import norm\n",
    "\n",
    "\n",
    "class RidgeLoss:\n",
    "    \n",
    "    def __init__(self, strength):\n",
    "        self.strength = strength\n",
    "    \n",
    "    def prox(self, dw):\n",
    "        return dw\n",
    "    \n",
    "    def loss(self, w):\n",
    "        return self.strength/2 * norm(w)**2\n",
    "    \n",
    "    def grad(self, w):\n",
    "        return self.strength * w\n",
    "\n",
    "\n",
    "class ModelLinReg:\n",
    "    \"\"\"A class giving first order information for linear regression\n",
    "    with least-squares loss.\n",
    "    \n",
    "    Parameters\n",
    "    ----------\n",
    "    X : `numpy.array`, shape=(n_samples, n_features)\n",
    "        The features matrix\n",
    "    \n",
    "    y : `numpy.array`, shape=(n_samples,)\n",
    "        The vector of labels\n",
    "    \"\"\"    \n",
    "    def __init__(self, X, y, lossF):\n",
    "        self.X = X\n",
    "        self.y = y\n",
    "        self.lossF = lossF\n",
    "        self.n_samples, self.n_features = X.shape\n",
    "        \n",
    "    def prox(self, dw):\n",
    "        return self.lossF.prox(dw)\n",
    "    \n",
    "    def loss(self, w):\n",
    "        \"\"\"Computes f(w)\"\"\"\n",
    "        y, X, n_samples, loss = self.y, self.X, self.n_samples, self.lossF\n",
    "        return 0.5 * norm(y - X.dot(w)) ** 2 / n_samples + loss.loss(w)\n",
    "    \n",
    "    def grad(self, w):\n",
    "        \"\"\"Computes the gradient of f at w\"\"\"\n",
    "        y, X, n_samples, loss = self.y, self.X, self.n_samples, self.lossF\n",
    "        return X.T.dot(X.dot(w) - y) / n_samples + loss.grad(w)\n",
    "\n",
    "    def grad_coordinate(self, j, w):\n",
    "        \"\"\"Computes the partial derivative of f with respect to \n",
    "        the j-th coordinate\"\"\"\n",
    "        y, X, n_samples, loss = self.y, self.X, self.n_samples, self.lossF\n",
    "        return X[:, j].T.dot(X.dot(w) - y) / n_samples + loss.grad(w)[j]\n",
    "\n",
    "    def lip(self):\n",
    "        \"\"\"Computes the Lipschitz constant of f\"\"\"\n",
    "        X, n_samples = self.X, self.n_samples\n",
    "        return norm(X.T.dot(X), 2) / n_samples + self.lossF.strength\n",
    "\n",
    "    def lip_coordinates(self):\n",
    "        \"\"\"Computes the Lipschitz constant of f with respect to \n",
    "        the j-th coordinate\"\"\"\n",
    "        X, n_samples = self.X, self.n_samples\n",
    "        return (X ** 2).sum(axis=0) / n_samples + self.lossF.strength\n"
   ]
  },
  {
   "cell_type": "markdown",
   "metadata": {},
   "source": [
    "#### Vérification avec check_grad\n",
    "\n",
    "On commence par définir des coefficients pour le modèle :"
   ]
  },
  {
   "cell_type": "code",
   "execution_count": 7,
   "metadata": {},
   "outputs": [
    {
     "data": {
      "text/plain": [
       "Text(0.5,1,'Coefficients du modèle')"
      ]
     },
     "execution_count": 7,
     "metadata": {},
     "output_type": "execute_result"
    },
    {
     "data": {
      "image/png": "[encoded data removed]",
      "text/plain": [
       "<Figure size 360x216 with 1 Axes>"
      ]
     },
     "metadata": {
      "needs_background": "light"
     },
     "output_type": "display_data"
    }
   ],
   "source": [
    "n_features = 50\n",
    "nnz = 20\n",
    "idx = np.arange(n_features, dtype=np.double)\n",
    "myw0 = (-1) ** (idx - 1) * np.exp(-idx / 10.)\n",
    "myw0[nnz:] = 0.\n",
    "\n",
    "plt.figure(figsize=(5, 3))\n",
    "plt.stem(myw0)\n",
    "plt.title(\"Coefficients du modèle\")"
   ]
  },
  {
   "cell_type": "markdown",
   "metadata": {},
   "source": [
    "On crée une matrice de design $X$ et un vecteur de labels $y$ avec `simu_linreg` et on crée ensuite un objet de classe `ModelLinReg` pour ces élements :"
   ]
  },
  {
   "cell_type": "code",
   "execution_count": 8,
   "metadata": {},
   "outputs": [],
   "source": [
    "X, y = simu_linreg(myw0, corr=0.1)\n",
    "mymodel = ModelLinReg(X, y, RidgeLoss(1e-3))"
   ]
  },
  {
   "cell_type": "markdown",
   "metadata": {},
   "source": [
    "Nous allons étudier vérifier que le gradient est correctement calculé dans la classe ci-dessus, grâce à la fonction `check_grad`, voir [ici](https://docs.scipy.org/doc/scipy/reference/generated/scipy.optimize.check_grad.html).\n",
    "\n",
    "> Quel est le rôle de w dans le code ci-dessous ? "
   ]
  },
  {
   "cell_type": "markdown",
   "metadata": {},
   "source": [
    "Ce sont les points où `check_grad` calcule une approximation du gradient."
   ]
  },
  {
   "cell_type": "code",
   "execution_count": 9,
   "metadata": {},
   "outputs": [
    {
     "name": "stdout",
     "output_type": "stream",
     "text": [
      "2.4641307138289477e-06\n"
     ]
    }
   ],
   "source": [
    "w = np.random.randn(n_features)\n",
    "from scipy.optimize import check_grad    \n",
    "print(check_grad(mymodel.loss, mymodel.grad, w))"
   ]
  },
  {
   "cell_type": "markdown",
   "metadata": {},
   "source": [
    "La classe `ModelLinReg`contient aussi des informations sur les constantes de Lipschitz du gradient :"
   ]
  },
  {
   "cell_type": "code",
   "execution_count": 10,
   "metadata": {
    "scrolled": true
   },
   "outputs": [
    {
     "name": "stdout",
     "output_type": "stream",
     "text": [
      "lip= 1.5870489539512405\n",
      "lip_coordinates= [1.07 1.09 1.04 0.98 1.06 1.   1.04 0.97 0.98 0.93 1.01 0.99 1.01 0.99\n",
      " 1.03 1.03 0.97 0.98 0.93 1.01 0.94 1.02 0.98 0.93 0.97 1.04 0.93 0.93\n",
      " 1.03 1.02 1.06 0.95 1.   0.96 1.03 1.01 0.99 1.   1.02 0.94 0.97 1.02\n",
      " 0.93 0.97 1.06 0.94 0.94 0.94 1.04 1.01]\n"
     ]
    }
   ],
   "source": [
    "print(\"lip=\", mymodel.lip())\n",
    "print(\"lip_coordinates=\", mymodel.lip_coordinates())"
   ]
  },
  {
   "cell_type": "markdown",
   "metadata": {},
   "source": [
    "## 2.1 Régression logistique\n",
    "\n",
    "**NB**: Revenir sur ces questions plus tard après avoir fini de traiter le cas de la régression linéaire.\n",
    "\n",
    "> Compléter la classe `ModelLogReg` pour les informations sur la fonction d'attache aux données dans le cas de la régression logistique."
   ]
  },
  {
   "cell_type": "markdown",
   "metadata": {},
   "source": [
    "Dans le cas de la régression logistique, on n'arrive pas à calculer rapidement une valeur satisfaisante pour la constante de Lipschitz. On choisit donc de majorer celle-ci grossièrement par une constante indépendante de $w$ et on s'assure par la suite que le pas de gradient qui en résulte ne créée pas de problèmes."
   ]
  },
  {
   "cell_type": "code",
   "execution_count": 75,
   "metadata": {},
   "outputs": [],
   "source": [
    "from numpy.linalg import eigh\n",
    "\n",
    "class ModelLogReg:\n",
    "    \"\"\"A class giving first order information for logistic regression and ridge penalization\n",
    "    \n",
    "    Parameters\n",
    "    ----------\n",
    "    X : `numpy.array`, shape=(n_samples, n_features)\n",
    "        The features matrix\n",
    "    \n",
    "    y : `numpy.array`, shape=(n_samples,)\n",
    "        The vector of labels\n",
    "    \"\"\"    \n",
    "    def __init__(self, X, y, lossF):\n",
    "        self.X = X\n",
    "        self.y = y\n",
    "        self.lossF = lossF\n",
    "        self.n_samples, self.n_features = X.shape\n",
    "        \n",
    "    def prox(self, dw):\n",
    "        return self.lossF.prox(dw)\n",
    "    \n",
    "    def loss(self, w):\n",
    "        \"\"\"Computes f(w)\"\"\"\n",
    "        y, X, n_samples, loss = self.y, self.X, self.n_samples, self.lossF\n",
    "        return 1/n_samples * np.sum(-(X @ w) * y + np.log(1 + np.exp(X @ w))) + loss.loss(w)\n",
    "       \n",
    "    def grad(self, w):\n",
    "        \"\"\"Computes the gradient of f at w\"\"\"\n",
    "        y, X, n_samples, loss = self.y, self.X, self.n_samples, self.lossF\n",
    "        E = np.exp(X @ w)/(1 + np.exp(X @ w))\n",
    "        return 1/n_samples * ((X.T @ E) - (X.T @ y)) + loss.grad(w)\n",
    "\n",
    "    def grad_coordinate(self, j, w):\n",
    "        \"\"\"Computes the partial derivative of f with respect to \n",
    "        the j-th coordinate\"\"\"\n",
    "        return self.grad(w)[j]\n",
    "        \n",
    "\n",
    "    def lip(self):\n",
    "        \"\"\"Computes the Lipschitz constant of f\"\"\"\n",
    "        X, n_samples, n_features = self.X, self.n_samples, self.n_features\n",
    "        # F = np.exp(X @ w)/(1 + np.exp(X @ w))**2\n",
    "        # truc = np.array([[np.sum([X[j, i] * X[j, l] * F[j] for j in range(n_samples)]) for i in range(n_features)] for l in range(n_features)])\n",
    "        # v, _  = eigh(1/n_samples * truc + self.lossF.strength * np.eye(n_features))\n",
    "        # return v.max()\n",
    "        return 1\n",
    "        \n",
    "    def lip_coordinates(self):\n",
    "        \"\"\"Computes the Lipschitz constant of f with respect to \n",
    "        the j-th coordinate\"\"\"\n",
    "        #F = np.exp(X @ w)/(1 + np.exp(X @ w))**2\n",
    "        #np.sum(([X[j, i] * X[j, l] * F[j] for j in range(n_samples)])\n",
    "        return np.full((self.n_features), self.lip())\n"
   ]
  },
  {
   "cell_type": "markdown",
   "metadata": {},
   "source": [
    "> Vérifier que les gradients calculés dans la classe `ModelLogReg` sont corrects, en utilisant la fonction `check_grad` et en utilisant la fonction `simu_logreg` pour définir une matrice de design et un vecteur de labels."
   ]
  },
  {
   "cell_type": "code",
   "execution_count": 78,
   "metadata": {},
   "outputs": [
    {
     "name": "stdout",
     "output_type": "stream",
     "text": [
      "1.5572798459074677e-07\n"
     ]
    }
   ],
   "source": [
    "from scipy.optimize import check_grad    \n",
    "\n",
    "idx = np.arange(50, dtype = np.double)\n",
    "myw0 = (-1) ** (idx - 1) * np.exp(-idx / 10.)\n",
    "X, y = simu_logreg(myw0, corr = 0.5)\n",
    "mylogregmodel = ModelLogReg(X, y, RidgeLoss(1e-3))\n",
    "w = np.random.randn(50)\n",
    "print(check_grad(mylogregmodel.loss, mylogregmodel.grad, w))"
   ]
  },
  {
   "cell_type": "markdown",
   "metadata": {},
   "source": [
    "<a id='solvers'></a>\n",
    "## 3. Solveurs"
   ]
  },
  {
   "cell_type": "markdown",
   "metadata": {},
   "source": [
    "Nous disposons des classes `ModelLinReg` et `ModelLogReg` qui donnent accès aux quantités $f(w)$, $\\nabla f(w)$ et $\\frac{\\partial f(w)}{\\partial w_j}$ pour la fonction objectif $f$ dans le cas de la régression linéaire et de la régression logistique. Nous allons maintenant implémenter plusieurs solveurs pour minimiser $f$.\n",
    "\n",
    "On crée ci-dessous une classe pour les sorties des solveurs. \n"
   ]
  },
  {
   "cell_type": "code",
   "execution_count": 13,
   "metadata": {},
   "outputs": [],
   "source": [
    "class ReturnTraj(object):\n",
    "    def __init__(self,w,obj_traj):\n",
    "        self.w = w  # final weight\n",
    "        self.obj_traj = obj_traj # objective trajectory"
   ]
  },
  {
   "cell_type": "markdown",
   "metadata": {},
   "source": [
    "<a id='gd'></a>\n",
    "## 3.1 Gradient descent\n",
    "\n",
    "> Compléter le code de la fonction `gd` ci-dessous et tester ensuite votre fonction. Attention aux copies de listes en python, voir par exemple [ici](http://apprendre-python.com/page-apprendre-listes-list-tableaux-tableaux-liste-array-python-cours-debutant) pour des rappels sur les copies de listes."
   ]
  },
  {
   "cell_type": "code",
   "execution_count": 41,
   "metadata": {},
   "outputs": [],
   "source": [
    "def gd(model, w0_init, n_iter,verbose=True):\n",
    "    \"\"\"Gradient descent\n",
    "    \"\"\"\n",
    "    step = 1 / model.lip()\n",
    "    w = w0_init[:]\n",
    "    obj_traj = [model.loss(w)]\n",
    "    if verbose:\n",
    "        print(model.loss(w))\n",
    "    for k in range(n_iter + 1):\n",
    "        w = model.prox(w - 1/model.lip()*model.grad(w))\n",
    "        obj_traj.append(model.loss(w))        \n",
    "        if verbose:\n",
    "            print(model.loss(w))\n",
    "    return ReturnTraj(w,obj_traj)"
   ]
  },
  {
   "cell_type": "code",
   "execution_count": 42,
   "metadata": {},
   "outputs": [],
   "source": [
    "# initialisation  \n",
    "w0_init = np.zeros(mymodel.n_features)\n",
    "# Nombres d'itérations\n",
    "n_iter = 50"
   ]
  },
  {
   "cell_type": "code",
   "execution_count": 43,
   "metadata": {},
   "outputs": [
    {
     "name": "stdout",
     "output_type": "stream",
     "text": [
      "0.8919287237674318\n",
      "0.7752400192093046\n",
      "0.703529073070274\n",
      "0.6512669109960891\n",
      "0.6096220907383965\n",
      "0.5749679379452114\n",
      "0.545424837034201\n",
      "0.5198546913315382\n",
      "0.4974663370044396\n",
      "0.4776691890191982\n",
      "0.46003842393804967\n",
      "0.44424880977462256\n",
      "0.43004356521822557\n",
      "0.41721514714382024\n",
      "0.40559267423584455\n",
      "0.3950240076828985\n",
      "0.3853861875713891\n",
      "0.3765918841181969\n",
      "0.36851531929373454\n",
      "0.3610976093343291\n",
      "0.35428660948137464\n",
      "0.3480270475678573\n",
      "0.342267175492929\n",
      "0.3369600715573117\n",
      "0.3320640658161548\n",
      "0.32754202228729323\n",
      "0.3233607450516478\n",
      "0.3194904802126197\n",
      "0.31590449428254463\n",
      "0.31257871460900405\n",
      "0.3094914207876705\n",
      "0.3066229783796486\n",
      "0.30395560801173077\n",
      "0.3014731842790422\n",
      "0.2991610599085894\n",
      "0.2970059114574234\n",
      "0.2949956034652311\n",
      "0.2931190684978091\n",
      "0.29136620093432086\n",
      "0.2897277626894176\n",
      "0.28819529933784355\n",
      "0.2867610653367708\n",
      "0.2854084226039839\n",
      "0.2841409582972198\n",
      "0.2829526515730394\n",
      "0.28183796297168173\n",
      "0.2807917985895225\n",
      "0.27980946371586196\n",
      "0.27888662591129854\n",
      "0.2780192832376911\n",
      "0.2772037360141888\n",
      "0.27643656137082917\n"
     ]
    }
   ],
   "source": [
    "w0_gd = gd(mymodel,w0_init,n_iter)"
   ]
  },
  {
   "cell_type": "code",
   "execution_count": 17,
   "metadata": {},
   "outputs": [
    {
     "data": {
      "text/plain": [
       "Text(0.5,1,'Coefficients du modèle')"
      ]
     },
     "execution_count": 17,
     "metadata": {},
     "output_type": "execute_result"
    },
    {
     "data": {
      "image/png": "[encoded data removed]",
      "text/plain": [
       "<Figure size 360x216 with 1 Axes>"
      ]
     },
     "metadata": {
      "needs_background": "light"
     },
     "output_type": "display_data"
    }
   ],
   "source": [
    "plt.figure(figsize=(5, 3))\n",
    "plt.stem(w0_gd.w)\n",
    "plt.title(\"Coefficients du modèle\")"
   ]
  },
  {
   "cell_type": "markdown",
   "metadata": {},
   "source": [
    "<a id='agd'></a>\n",
    "## 3.2 Accelerated gradient descent\n",
    "\n",
    "Nous avons vu en cours l'algorithme AGD dans le cas général des pénalisations convexes non différentiables. L'algorithme AGD dans le cas d'une pénalité différentiable correspond à la situation de l'opérateur proximal de la pénalisation nulle, c'est à dire l'opérateur identité.\n",
    "\n",
    "> Compléter et tester la fonction `agd` ci-dessous.\n",
    "\n"
   ]
  },
  {
   "cell_type": "code",
   "execution_count": 18,
   "metadata": {},
   "outputs": [],
   "source": [
    "def agd(model, w0_init, n_iter,verbose=True):\n",
    "    \"\"\"Accelerated gradient descent\n",
    "    \"\"\"\n",
    "\n",
    "    step = 1 / model.lip()\n",
    "    w = w0_init[:]\n",
    "    # An extra variable is required for acceleration\n",
    "    z = w0_init[:]\n",
    "    t = 1.\n",
    "    t_new = 1.  \n",
    "    obj_traj = [model.loss(w)]\n",
    "    if verbose:\n",
    "        print(model.loss(w))\n",
    "    for k in range(n_iter + 1):\n",
    "        w_new = model.prox(z - 1/model.lip() * model.grad(w))\n",
    "        t_new = 1/2 * (1 + np.sqrt(1 + 4 * t**2))\n",
    "        z = w + (t - 1)/t_new * (w_new - w)\n",
    "        w = w_new\n",
    "        t = t_new\n",
    "        obj_traj.append(model.loss(w))          \n",
    "        if verbose:\n",
    "            print(model.loss(w))\n",
    "            \n",
    "    return ReturnTraj(w,obj_traj)   "
   ]
  },
  {
   "cell_type": "code",
   "execution_count": 19,
   "metadata": {},
   "outputs": [],
   "source": [
    "# initialisation  \n",
    "w0_init = np.zeros(mymodel.n_features)\n",
    "# Nombres d'itérations\n",
    "n_iter = 50"
   ]
  },
  {
   "cell_type": "code",
   "execution_count": 20,
   "metadata": {},
   "outputs": [
    {
     "name": "stdout",
     "output_type": "stream",
     "text": [
      "2.3057681827294996\n",
      "0.591626426509159\n",
      "1.4544248970143823\n",
      "0.28367740824817955\n",
      "0.6253562375073294\n",
      "0.225654350761508\n",
      "0.2450272543055368\n",
      "0.1570318073679645\n",
      "0.14476710286680844\n",
      "0.12971679767988425\n",
      "0.12559995435058877\n",
      "0.12319388553289645\n",
      "0.12229924161609078\n",
      "0.12186987694872681\n",
      "0.12168016820457804\n",
      "0.12158971169090586\n",
      "0.12154664441442581\n",
      "0.12152579633996514\n",
      "0.12151570088380552\n",
      "0.12151081373910065\n",
      "0.12150845592385352\n",
      "0.12150732289960517\n",
      "0.12150678080241362\n",
      "0.12150652255451866\n",
      "0.12150640004398953\n",
      "0.12150634215872616\n",
      "0.12150631491247511\n",
      "0.12150630213410696\n",
      "0.12150629616160649\n",
      "0.12150629337915926\n",
      "0.12150629208686747\n",
      "0.12150629148842088\n",
      "0.12150629121205457\n",
      "0.12150629108476321\n",
      "0.12150629102628122\n",
      "0.12150629099947678\n",
      "0.1215062909872193\n",
      "0.12150629098162631\n",
      "0.1215062909790795\n",
      "0.12150629097792214\n",
      "0.1215062909773972\n",
      "0.1215062909771595\n",
      "0.1215062909770521\n",
      "0.12150629097700365\n",
      "0.12150629097698183\n",
      "0.12150629097697203\n",
      "0.12150629097696755\n",
      "0.12150629097696561\n",
      "0.12150629097696472\n",
      "0.12150629097696432\n",
      "0.12150629097696414\n",
      "0.12150629097696407\n"
     ]
    }
   ],
   "source": [
    "w0_agd = agd(mymodel,w0_init,n_iter)"
   ]
  },
  {
   "cell_type": "code",
   "execution_count": 21,
   "metadata": {},
   "outputs": [
    {
     "data": {
      "text/plain": [
       "Text(0.5,1,'Coefficients du modèle')"
      ]
     },
     "execution_count": 21,
     "metadata": {},
     "output_type": "execute_result"
    },
    {
     "data": {
      "image/png": "[encoded data removed]",
      "text/plain": [
       "<Figure size 360x216 with 1 Axes>"
      ]
     },
     "metadata": {
      "needs_background": "light"
     },
     "output_type": "display_data"
    }
   ],
   "source": [
    "plt.figure(figsize=(5, 3))\n",
    "plt.stem(w0_agd.w)\n",
    "plt.title(\"Coefficients du modèle\")"
   ]
  },
  {
   "cell_type": "markdown",
   "metadata": {},
   "source": [
    "<a id='cgd'></a>\n",
    "\n",
    "## 3.3 Coordinate gradient descent\n",
    "\n",
    "\n",
    "> Compléter et tester la fonction `agd` ci-dessous."
   ]
  },
  {
   "cell_type": "code",
   "execution_count": 22,
   "metadata": {},
   "outputs": [],
   "source": [
    "def cgd(model, w0_init, n_iter, verbose=True):\n",
    "    \"\"\"Coordinate gradient descent\n",
    "    \"\"\"\n",
    "    w = w0_init[:]\n",
    "    n_features = model.n_features\n",
    "    steps = 1 / model.lip_coordinates()\n",
    "    obj_traj = [model.loss(w)]    \n",
    "    if verbose:\n",
    "        print(model.loss(w))\n",
    "    for k in range(n_iter + 1):\n",
    "        #j = np.random.choice(n_features)\n",
    "        j = k%n_features\n",
    "        w[j] = model.prox(w[j] - 1/steps[j] * model.grad_coordinate(j, w))\n",
    "        obj_traj.append(model.loss(w))        \n",
    "        if verbose:\n",
    "            print(model.loss(w))\n",
    "    return ReturnTraj(w,obj_traj)  "
   ]
  },
  {
   "cell_type": "code",
   "execution_count": 23,
   "metadata": {},
   "outputs": [],
   "source": [
    "# initialisation  \n",
    "w0_init = np.zeros(mymodel.n_features)\n",
    "# Nombres d'itérations\n",
    "n_iter = 200"
   ]
  },
  {
   "cell_type": "code",
   "execution_count": 24,
   "metadata": {},
   "outputs": [
    {
     "name": "stdout",
     "output_type": "stream",
     "text": [
      "2.3057681827294996\n",
      "1.8454911940008927\n",
      "1.5164929206891524\n",
      "1.1924332161690756\n",
      "1.0014428671741145\n",
      "0.8225703596128644\n",
      "0.7396109168699196\n",
      "0.6343207917602909\n",
      "0.5648013555278023\n",
      "0.4909944839781133\n",
      "0.42256849920930223\n",
      "0.3518171343981285\n",
      "0.31680793394859835\n",
      "0.2853648689725132\n",
      "0.25664700178818367\n",
      "0.23203827739459357\n",
      "0.21462250198002022\n",
      "0.19446157543451909\n",
      "0.1811419620941474\n",
      "0.17566323354549795\n",
      "0.16659060561386121\n",
      "0.16640780805533228\n",
      "0.16607754184665832\n",
      "0.16596421694173907\n",
      "0.16575537676263602\n",
      "0.16575029875335037\n",
      "0.16567253030299817\n",
      "0.16552851951591427\n",
      "0.16547971393630542\n",
      "0.165478132029865\n",
      "0.1654752904543496\n",
      "0.16518074666135932\n",
      "0.16436131984420937\n",
      "0.16426946531447204\n",
      "0.16404117129414417\n",
      "0.16403952399376584\n",
      "0.1638133261392346\n",
      "0.1638067689456327\n",
      "0.163788278153213\n",
      "0.16358563157286854\n",
      "0.16347430835506552\n",
      "0.16342221030460338\n",
      "0.16342092163030403\n",
      "0.16340714282016222\n",
      "0.16294784676493018\n",
      "0.16264667508609737\n",
      "0.16247731180534716\n",
      "0.1624309185666001\n",
      "0.16216315765499353\n",
      "0.1621249269587765\n",
      "0.1617384725946186\n",
      "0.1597502898534825\n",
      "0.15822085826081175\n",
      "0.1569562634225293\n",
      "0.14861738838755437\n",
      "0.14830537224611007\n",
      "0.13605533483355675\n",
      "0.13570205379728728\n",
      "0.13080843590821115\n",
      "0.13028082325137208\n",
      "0.12732846493932615\n",
      "0.1269747323919114\n",
      "0.12622681483059114\n",
      "0.12612636219960108\n",
      "0.1255838544160716\n",
      "0.12557878513224652\n",
      "0.12549547382957718\n",
      "0.12520748741819576\n",
      "0.12497079342271124\n",
      "0.12437010123404232\n",
      "0.12435897806886309\n",
      "0.12410701335677098\n",
      "0.1241061333637603\n",
      "0.12408490132647053\n",
      "0.12385203706928721\n",
      "0.12384447518484443\n",
      "0.12384371045678305\n",
      "0.12380478411981292\n",
      "0.12365174288206138\n",
      "0.12364535037252554\n",
      "0.12364527958739271\n",
      "0.12362599170605265\n",
      "0.12347222227651915\n",
      "0.12346663236343539\n",
      "0.12346319659878956\n",
      "0.12346319153750135\n",
      "0.12342643427729416\n",
      "0.12340895927202843\n",
      "0.1233871817598286\n",
      "0.12338533339874135\n",
      "0.12335761978032596\n",
      "0.12331145531883465\n",
      "0.12330852808232898\n",
      "0.12320610094541555\n",
      "0.12320396168103907\n",
      "0.12317132835952828\n",
      "0.12309546256434672\n",
      "0.12302951205103661\n",
      "0.12302580619783593\n",
      "0.12296753697929584\n",
      "0.12292539002429657\n",
      "0.12291359747838222\n",
      "0.12275386040495861\n",
      "0.12269876700172745\n",
      "0.12255747795646912\n",
      "0.12252148848455244\n",
      "0.12208730709711486\n",
      "0.12196939707648971\n",
      "0.1218748616556501\n",
      "0.12180363188885238\n",
      "0.12176097603412323\n",
      "0.121759125253277\n",
      "0.12175160753680575\n",
      "0.12171141971634121\n",
      "0.12170068005919953\n",
      "0.12169945635132146\n",
      "0.12169119735668235\n",
      "0.12169014662082907\n",
      "0.12166314619873443\n",
      "0.12163723891703311\n",
      "0.12163605182626037\n",
      "0.12163303534335847\n",
      "0.12163278947720726\n",
      "0.12163278233033327\n",
      "0.12161982739474582\n",
      "0.12161967233215086\n",
      "0.12161851802932792\n",
      "0.12161776864140215\n",
      "0.12160241368177328\n",
      "0.1216021203964813\n",
      "0.12160196702435527\n",
      "0.12160134113632268\n",
      "0.12159324666013628\n",
      "0.12159299258859015\n",
      "0.12158953927900702\n",
      "0.12158951227455725\n",
      "0.12158950522585339\n",
      "0.12158907812863955\n",
      "0.12158476715827106\n",
      "0.1215845715664885\n",
      "0.12158234537877306\n",
      "0.12158137180163099\n",
      "0.12158135400037567\n",
      "0.12157686752046004\n",
      "0.12157619660932267\n",
      "0.12157458083315213\n",
      "0.12157446051206157\n",
      "0.12157244435477507\n",
      "0.12157230063985615\n",
      "0.12157191675000162\n",
      "0.12157172763809065\n",
      "0.12157122890952543\n",
      "0.12157119030003997\n",
      "0.12157111994855266\n",
      "0.12156104948492324\n",
      "0.12156021655200686\n",
      "0.12153367217683482\n",
      "0.12153276037726692\n",
      "0.12152536943544369\n",
      "0.12152166811767807\n",
      "0.12151964554365645\n",
      "0.12151938256756321\n",
      "0.1215186254249979\n",
      "0.12151791516637027\n",
      "0.12151790971582008\n",
      "0.12151778768634776\n",
      "0.12151769843128526\n",
      "0.12151759214918964\n",
      "0.1215162756873545\n",
      "0.12151569309384373\n",
      "0.12151567631527231\n",
      "0.12151499084066136\n",
      "0.12151495599984406\n",
      "0.12151490692607844\n",
      "0.12151398335610061\n",
      "0.12151390617536026\n",
      "0.12151387972089807\n",
      "0.12151363303275582\n",
      "0.12151221190241421\n",
      "0.12151220636282921\n",
      "0.12151218847792015\n",
      "0.12151212126269273\n",
      "0.12151145499966887\n",
      "0.12151138210764297\n",
      "0.12151125367606269\n",
      "0.12151125185377395\n",
      "0.12151122430960344\n",
      "0.12151119701584787\n",
      "0.1215109404747496\n",
      "0.12151091505927715\n",
      "0.12151074689421651\n",
      "0.12151061094711992\n",
      "0.12151061068909154\n",
      "0.12151017439682515\n",
      "0.12151014859274811\n",
      "0.12150999087870852\n",
      "0.1215099525763531\n",
      "0.1215097500015998\n",
      "0.12150972357335647\n",
      "0.12150965055311945\n",
      "0.12150961646493742\n",
      "0.12150953784416295\n"
     ]
    }
   ],
   "source": [
    "w0_cgd = cgd(mymodel,w0_init,n_iter)"
   ]
  },
  {
   "cell_type": "code",
   "execution_count": 25,
   "metadata": {},
   "outputs": [
    {
     "data": {
      "text/plain": [
       "Text(0.5,1,'Coefficients du modèle')"
      ]
     },
     "execution_count": 25,
     "metadata": {},
     "output_type": "execute_result"
    },
    {
     "data": {
      "image/png": "[encoded data removed]",
      "text/plain": [
       "<Figure size 360x216 with 1 Axes>"
      ]
     },
     "metadata": {
      "needs_background": "light"
     },
     "output_type": "display_data"
    }
   ],
   "source": [
    "plt.figure(figsize=(5, 3))\n",
    "plt.stem(w0_cgd.w)\n",
    "plt.title(\"Coefficients du modèle\")"
   ]
  },
  {
   "cell_type": "markdown",
   "metadata": {},
   "source": [
    "<a id='comparison'></a>\n",
    "# 4. Comparaison et études des algorithmes"
   ]
  },
  {
   "cell_type": "code",
   "execution_count": 26,
   "metadata": {},
   "outputs": [],
   "source": [
    "w0_cgd_long = cgd(mymodel,w0_init,n_iter=1000,verbose=False)\n",
    "obj_final = w0_cgd_long.obj_traj[-1] "
   ]
  },
  {
   "cell_type": "markdown",
   "metadata": {},
   "source": [
    "> Comparer les performances des 3 algorithmes en traçant en (échelles log) la valeur de la fonction objectif comparée à obj_final  en fonction du nombre de passes sur l'ensemble des données. "
   ]
  },
  {
   "cell_type": "code",
   "execution_count": 27,
   "metadata": {},
   "outputs": [
    {
     "data": {
      "text/plain": [
       "<matplotlib.legend.Legend at 0x7f97924f1518>"
      ]
     },
     "execution_count": 27,
     "metadata": {},
     "output_type": "execute_result"
    },
    {
     "data": {
      "image/png": "[encoded data removed]",
      "text/plain": [
       "<Figure size 432x288 with 1 Axes>"
      ]
     },
     "metadata": {
      "needs_background": "light"
     },
     "output_type": "display_data"
    }
   ],
   "source": [
    "X, y = simu_linreg(myw0, corr=0.6)\n",
    "mymodel = ModelLinReg(X, y, RidgeLoss(1e-3))\n",
    "w0_init = np.zeros(mymodel.n_features)\n",
    "\n",
    "plt.title(\"Régression linéaire\")\n",
    "plt.loglog(gd(mymodel, w0_init, n_iter = 50, verbose = False).obj_traj, label = \"GD\")\n",
    "plt.loglog(agd(mymodel, w0_init, n_iter = 50, verbose = False).obj_traj, label = \"AGD\")\n",
    "plt.loglog(cgd(mymodel, w0_init, n_iter = 500, verbose = False).obj_traj, label = \"CGD\")\n",
    "plt.legend()"
   ]
  },
  {
   "cell_type": "markdown",
   "metadata": {},
   "source": [
    "Les méthodes GD et AGD ont des performances comparables -- au bout de 50 itérations, la perte semble atteindre un palier. GD est un peu plus rapide dans ce cas.\n",
    "\n",
    "La méthode CGD demande plus d'itérations pour converger vers une perte comparable, puisqu'elle n'effectue qu'un pas dans une seule direction à chaque itération. Les directions sont toujours parcourues dans le même ordre, ce qui explique la forme très particulière de la trajectoire."
   ]
  },
  {
   "cell_type": "code",
   "execution_count": 77,
   "metadata": {},
   "outputs": [
    {
     "data": {
      "text/plain": [
       "<matplotlib.legend.Legend at 0x7f97922fbb00>"
      ]
     },
     "execution_count": 77,
     "metadata": {},
     "output_type": "execute_result"
    },
    {
     "data": {
      "image/png": "[encoded data removed]",
      "text/plain": [
       "<Figure size 432x288 with 1 Axes>"
      ]
     },
     "metadata": {
      "needs_background": "light"
     },
     "output_type": "display_data"
    }
   ],
   "source": [
    "X, y = simu_logreg(myw0, corr=0.6)\n",
    "mymodel = ModelLogReg(X, y, RidgeLoss(1e-3))\n",
    "w0_init = np.zeros(mymodel.n_features)\n",
    "\n",
    "plt.title(\"Régression logistique\")\n",
    "plt.ylabel(\"perte\")\n",
    "plt.loglog(gd(mymodel, w0_init, n_iter = 50, verbose = False).obj_traj, label = \"GD\")\n",
    "plt.loglog(agd(mymodel, w0_init, n_iter = 50, verbose = False).obj_traj, label = \"AGD\")\n",
    "plt.loglog(cgd(mymodel, w0_init, n_iter = 500, verbose = False).obj_traj, label = \"CGD\")\n",
    "plt.legend()"
   ]
  },
  {
   "cell_type": "markdown",
   "metadata": {},
   "source": [
    "En régression logistique, les constats sont les mêmes, même si la convergence est encore un peu plus lente pour CGD (dû au choix du pas de gradient constant, peu adaptés aux différentes directions)."
   ]
  },
  {
   "cell_type": "markdown",
   "metadata": {},
   "source": [
    "> Comparer la qualité de l'estimation des coefficients du modèles pour un faible et un grand nombre d'itérations."
   ]
  },
  {
   "cell_type": "code",
   "execution_count": 29,
   "metadata": {},
   "outputs": [
    {
     "data": {
      "text/plain": [
       "<matplotlib.legend.Legend at 0x7f979218c4a8>"
      ]
     },
     "execution_count": 29,
     "metadata": {},
     "output_type": "execute_result"
    },
    {
     "data": {
      "image/png": "[encoded data removed]",
      "text/plain": [
       "<Figure size 432x288 with 1 Axes>"
      ]
     },
     "metadata": {
      "needs_background": "light"
     },
     "output_type": "display_data"
    }
   ],
   "source": [
    "X, y = simu_linreg(myw0, corr=0.6)\n",
    "mymodel = ModelLinReg(X, y, RidgeLoss(1e-3))\n",
    "w0_init = np.zeros(mymodel.n_features)\n",
    "\n",
    "err = lambda alg, it: np.linalg.norm(alg(mymodel, w0_init, n_iter = it, verbose = False).w - myw0)\n",
    "\n",
    "iterations = [50, 75, 100, 200]\n",
    "plt.title(\"Erreur quadratique (linreg)\")\n",
    "plt.plot(iterations, [err(gd, i) for i in iterations], label = \"GD\")\n",
    "plt.plot(iterations, [err(agd, i) for i in iterations], label = \"AGD\")\n",
    "plt.plot(iterations, [err(cgd, i) for i in iterations], label = \"CGD\")\n",
    "plt.xlabel(\"itérations\")\n",
    "plt.legend()"
   ]
  },
  {
   "cell_type": "markdown",
   "metadata": {},
   "source": [
    "On observe une fois de plus la même chose, à savoir que l'algorithme CGD demande plus d'itérations de par sa construction, et que GD et AGD ont des vitesses comparables dans notre cas (ce qui est un peu surprenant/décevant)."
   ]
  },
  {
   "cell_type": "markdown",
   "metadata": {},
   "source": [
    "> Etudier l'influence de la corrélation sur les performances des algorithmes."
   ]
  },
  {
   "cell_type": "code",
   "execution_count": 30,
   "metadata": {},
   "outputs": [
    {
     "data": {
      "text/plain": [
       "<matplotlib.legend.Legend at 0x7f97920fe358>"
      ]
     },
     "execution_count": 30,
     "metadata": {},
     "output_type": "execute_result"
    },
    {
     "data": {
      "image/png": "[encoded data removed]",
      "text/plain": [
       "<Figure size 432x288 with 1 Axes>"
      ]
     },
     "metadata": {
      "needs_background": "light"
     },
     "output_type": "display_data"
    }
   ],
   "source": [
    "X, y = simu_linreg(myw0, corr=0.9)\n",
    "mymodel = ModelLinReg(X, y, RidgeLoss(1e-3))\n",
    "w0_init = np.zeros(mymodel.n_features)\n",
    "\n",
    "plt.title(\"Régression linéaire, échantillon fortement corrélé\")\n",
    "plt.loglog(gd(mymodel, w0_init, n_iter = 50, verbose = False).obj_traj, label = \"GD\")\n",
    "plt.loglog(agd(mymodel, w0_init, n_iter = 50, verbose = False).obj_traj, label = \"AGD\")\n",
    "plt.loglog(cgd(mymodel, w0_init, n_iter = 500, verbose = False).obj_traj, label = \"CGD\")\n",
    "plt.legend()"
   ]
  },
  {
   "cell_type": "markdown",
   "metadata": {},
   "source": [
    "Pour une corrélation forte, CGD s'en sort beaucoup mieux que les autres algorithmes."
   ]
  },
  {
   "cell_type": "code",
   "execution_count": 31,
   "metadata": {},
   "outputs": [
    {
     "data": {
      "text/plain": [
       "<matplotlib.legend.Legend at 0x7f979237b4a8>"
      ]
     },
     "execution_count": 31,
     "metadata": {},
     "output_type": "execute_result"
    },
    {
     "data": {
      "image/png": "[encoded data removed]",
      "text/plain": [
       "<Figure size 432x288 with 1 Axes>"
      ]
     },
     "metadata": {
      "needs_background": "light"
     },
     "output_type": "display_data"
    }
   ],
   "source": [
    "X, y = simu_linreg(myw0, corr=0.1)\n",
    "mymodel = ModelLinReg(X, y, RidgeLoss(1e-3))\n",
    "w0_init = np.zeros(mymodel.n_features)\n",
    "\n",
    "plt.title(\"Régression linéaire, échantillon faiblement corrélé\")\n",
    "plt.loglog(gd(mymodel, w0_init, n_iter = 50, verbose = False).obj_traj, label = \"GD\")\n",
    "plt.loglog(agd(mymodel, w0_init, n_iter = 50, verbose = False).obj_traj, label = \"AGD\")\n",
    "plt.loglog(cgd(mymodel, w0_init, n_iter = 500, verbose = False).obj_traj, label = \"CGD\")\n",
    "plt.legend()"
   ]
  },
  {
   "cell_type": "markdown",
   "metadata": {},
   "source": [
    "Pour une corrélation faible, on retrouve les tendances précédentes en terme de vitesse. En revanche, les algorithmes semblent incapables de converge vers un minimum aussi bas que précédemment, et une perte importante subsiste à la fin.\n",
    "\n",
    "On voit aussi que la pas de l'AGD est mal proportionné à cette situation : il semble que l'on s'écarte fréquemment de la direction de descente au départ. "
   ]
  },
  {
   "cell_type": "markdown",
   "metadata": {},
   "source": [
    "# 5. Algorithmes proximaux\n",
    "\n",
    "> Implémenter les algorithmes GD, AGD et CGD pour le cas du modèle de la régression linéaire pénalisée par le lasso."
   ]
  },
  {
   "cell_type": "markdown",
   "metadata": {},
   "source": [
    "Pour une pénalité lasso $\\Omega(w) = \\lambda \\Vert w \\Vert_1$, on a \n",
    "\\begin{equation*}\n",
    "\\text{prox}_\\Omega (w) = \\text{sign}(w) (|w| - \\lambda)_+.\n",
    "\\end{equation*}\n",
    "\n",
    "On modifie les classes précédentes pour externaliser la logique liée aux pertes, et on ajoute la prise en compte de l'opérateur proximal aux algorithmes de descente."
   ]
  },
  {
   "cell_type": "code",
   "execution_count": 32,
   "metadata": {},
   "outputs": [],
   "source": [
    "from numpy.linalg import norm\n",
    "\n",
    "\n",
    "class LassoLoss:\n",
    "   \n",
    "    def __init__(self, strength):\n",
    "        self.strength = strength\n",
    "        \n",
    "    def prox(self, dw):\n",
    "        return np.sign(dw) * np.clip(np.abs(dw) - self.strength, 0, None)\n",
    "    \n",
    "    def loss(self, w):\n",
    "        return self.strength * norm(w, ord = 1)\n",
    "    \n",
    "    def grad(self, w):\n",
    "        return np.zeros(w.shape)\n"
   ]
  },
  {
   "cell_type": "code",
   "execution_count": 33,
   "metadata": {},
   "outputs": [
    {
     "data": {
      "text/plain": [
       "<matplotlib.legend.Legend at 0x7f9791fead30>"
      ]
     },
     "execution_count": 33,
     "metadata": {},
     "output_type": "execute_result"
    },
    {
     "data": {
      "image/png": "[encoded data removed]",
      "text/plain": [
       "<Figure size 432x288 with 1 Axes>"
      ]
     },
     "metadata": {
      "needs_background": "light"
     },
     "output_type": "display_data"
    }
   ],
   "source": [
    "X, y = simu_linreg(myw0, corr=0.6)\n",
    "mymodel = ModelLinReg(X, y, LassoLoss(1e-2))\n",
    "w0_init = np.zeros(mymodel.n_features)\n",
    "\n",
    "methods = [(\"GD\", 100, gd), (\"AGD\", 100, agd), (\"CGD\", 500, cgd)]\n",
    "\n",
    "plt.title(\"Régression linéaire pénalité lasso\\n (50 features, 20 non nuls)\")\n",
    "for (name, n_iter, method) in methods:\n",
    "    res = method(mymodel, w0_init, n_iter = n_iter, verbose = False)\n",
    "    plt.loglog(res.obj_traj, label = \"{} (modèle final : {}/50 feats.)\".format(name, np.sum(res.w != 0)))\n",
    "plt.legend()"
   ]
  },
  {
   "cell_type": "markdown",
   "metadata": {},
   "source": [
    "Dans le cas d'une pénalisation lasso, on observe que CGD est un peu plus rapide au départ. Étonnament, CGD retient aussi plus de variables que les autres algorithmes. Pour ceux-ci, l'erreur semble atteindre un plateau assez tôt malgré une sélection de features très proche de la réalité (18 features pour 20 en réalité)."
   ]
  }
 ],
 "metadata": {
  "anaconda-cloud": {},
  "kernelspec": {
   "display_name": "Python 3",
   "language": "python",
   "name": "python3"
  },
  "language_info": {
   "codemirror_mode": {
    "name": "ipython",
    "version": 3
   },
   "file_extension": ".py",
   "mimetype": "text/x-python",
   "name": "python",
   "nbconvert_exporter": "python",
   "pygments_lexer": "ipython3",
   "version": "3.7.3"
  }
 },
 "nbformat": 4,
 "nbformat_minor": 1
}
