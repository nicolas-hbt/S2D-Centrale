{
 "cells": [
  {
   "cell_type": "markdown",
   "metadata": {},
   "source": [
    "# Human Activities - Classification\n",
    "\n",
    "### *Adrien BERSIER, Nicolas HUBERT*"
   ]
  },
  {
   "cell_type": "markdown",
   "metadata": {},
   "source": [
    "Pour ce TP nous allons mettre en pratique plusieurs méthodes de classification supervisée sur des données d'enregistrement d'acceleromètres (de smart-phones).\n",
    "\n",
    "Les données sources sont disponibles sur [le site de l'UCI](http://bertrand.michel.perso.math.cnrs.fr/Enseignements/Data/UCI-HAR-Dataset.zip)\n",
    "\n",
    "\"The experiments have been carried out with a group of 30 volunteers within an age bracket of 19-48 years. Each person performed six activities (WALKING, WALKING_UPSTAIRS, WALKING_DOWNSTAIRS, SITTING, STANDING, LAYING) wearing a smartphone (Samsung Galaxy S II) on the waist. Using its embedded accelerometer and gyroscope, we captured 3-axial linear acceleration and 3-axial angular velocity at a constant rate of 50Hz. The experiments have been video-recorded to label the data manually.\n",
    "\n",
    "The sensor signals (accelerometer and gyroscope) were pre-processed by applying noise filters and then sampled in fixed-width sliding windows of 2.56 sec and 50% overlap (128 readings/window). The sensor acceleration signal, which has gravitational and body motion components, was separated using a Butterworth low-pass filter into body acceleration and gravity. The gravitational force is assumed to have only low frequency components, therefore a filter with 0.3 Hz cutoff frequency was used. From each window, a vector of features was obtained by calculating variables from the time and frequency domain. See 'features_info.txt' for more details.\"\n",
    "\n",
    "\n"
   ]
  },
  {
   "cell_type": "code",
   "execution_count": 1,
   "metadata": {},
   "outputs": [],
   "source": [
    "%matplotlib inline\n",
    "from pylab import *\n",
    "import pandas as pd\n",
    "from sklearn.decomposition import PCA\n",
    "from sklearn import preprocessing "
   ]
  },
  {
   "cell_type": "markdown",
   "metadata": {},
   "source": [
    "# Importation des données\n",
    "\n",
    "\n",
    "Les suivants permettent de récupérer les données.\n",
    "Pour simplifier on n'utilise pour le TP que les données du dossier train."
   ]
  },
  {
   "cell_type": "code",
   "execution_count": 2,
   "metadata": {},
   "outputs": [],
   "source": [
    "votre_path= \"C:/Users/acer/Documents/GitHub/S2D-Centrale/UCI HAR Dataset/\""
   ]
  },
  {
   "cell_type": "markdown",
   "metadata": {},
   "source": [
    "#### recuperations des features"
   ]
  },
  {
   "cell_type": "code",
   "execution_count": 3,
   "metadata": {},
   "outputs": [
    {
     "name": "stderr",
     "output_type": "stream",
     "text": [
      "C:\\Users\\acer\\Anaconda3\\lib\\site-packages\\pandas\\io\\parsers.py:678: UserWarning: Duplicate names specified. This will raise an error in the future.\n",
      "  return _read(filepath_or_buffer, kwds)\n"
     ]
    }
   ],
   "source": [
    "data_path = votre_path + \"features.txt\"\n",
    "features_names =    pd.read_csv(data_path,delim_whitespace=True,header=None)\n",
    "\n",
    "data_path = votre_path + \"train/X_train.txt\"\n",
    "activity_features = pd.read_csv(data_path,delim_whitespace=True,\n",
    "                                header=None,names=features_names.values[:,1])"
   ]
  },
  {
   "cell_type": "markdown",
   "metadata": {},
   "source": [
    "#### recuperations des activités :"
   ]
  },
  {
   "cell_type": "code",
   "execution_count": 4,
   "metadata": {},
   "outputs": [
    {
     "data": {
      "text/plain": [
       "array([4, 4, 4, ..., 1, 1, 1], dtype=int64)"
      ]
     },
     "execution_count": 4,
     "metadata": {},
     "output_type": "execute_result"
    }
   ],
   "source": [
    "data_path = votre_path + \"train/y_train.txt\"\n",
    "activity  =    pd.read_csv(data_path,delim_whitespace=True,header=None)\n",
    "activity  =  activity.values[:,0] -  1\n",
    "activity_names = ['WALKING','WALKING_UPSTAIRS','WALKING_DOWNSTAIRS','SITTING','STANDING','LAYING']\n",
    "activity"
   ]
  },
  {
   "cell_type": "markdown",
   "metadata": {},
   "source": [
    "#### recuperations des sujets :"
   ]
  },
  {
   "cell_type": "code",
   "execution_count": 5,
   "metadata": {},
   "outputs": [],
   "source": [
    "data_path = votre_path + \"train/subject_train.txt\"\n",
    "sujet =  pd.read_csv(data_path,delim_whitespace=True,header=None)\n",
    "sujet =sujet.values[:,0]"
   ]
  },
  {
   "cell_type": "markdown",
   "metadata": {},
   "source": [
    "> Effectuer une standardisation des features (activity_features) avec la fonction  [StandardScaler()](http://scikit-learn.org/stable/modules/generated/sklearn.preprocessing.StandardScaler.html) de scikit-learn."
   ]
  },
  {
   "cell_type": "code",
   "execution_count": 6,
   "metadata": {
    "scrolled": true
   },
   "outputs": [],
   "source": [
    "# from sklearn.preprocessing import StandardScaler\n",
    "# scaler = preprocessing.StandardScaler()\n",
    "# features_nor = scaler.fit_transform(activity_features)\n",
    "# features_nor"
   ]
  },
  {
   "cell_type": "code",
   "execution_count": 7,
   "metadata": {},
   "outputs": [
    {
     "data": {
      "text/plain": [
       "array([[ 0.20064157, -0.0636826 , -0.41962845, ..., -0.68721921,\n",
       "         0.40794614, -0.00756789],\n",
       "       [ 0.05594788,  0.03148567, -0.25390836, ..., -0.694138  ,\n",
       "         0.40911698,  0.00787517],\n",
       "       [ 0.07351535, -0.04341648, -0.07629468, ..., -0.702239  ,\n",
       "         0.4102883 ,  0.02650234],\n",
       "       ...,\n",
       "       [-0.01566765,  0.0167814 ,  1.13222107, ..., -0.56584847,\n",
       "         0.64059683,  0.34870928],\n",
       "       [ 0.21586648, -0.02812252, -0.86770988, ..., -0.57766781,\n",
       "         0.63147758,  0.29327564],\n",
       "       [ 1.09620157,  0.12919873, -1.67268082, ..., -0.57392691,\n",
       "         0.63274259,  0.33396081]])"
      ]
     },
     "execution_count": 7,
     "metadata": {},
     "output_type": "execute_result"
    }
   ],
   "source": [
    "features_nor = preprocessing.scale(activity_features)\n",
    "features_nor"
   ]
  },
  {
   "cell_type": "markdown",
   "metadata": {},
   "source": [
    "# ACP des données activity_features"
   ]
  },
  {
   "cell_type": "markdown",
   "metadata": {},
   "source": [
    "> Tracer le nuage des deux premières composantes de l'ACP en distinguant les 5 activités pour constater qu'il y a beaucoup de recouvrement entre les classes sur ces deux premières composantes. Un descriptif de la fonction `sklearn.decomposition.PCA()` de la librairie scikit-learn est disponible [ici](http://scikit-learn.org/stable/modules/generated/sklearn.decomposition.PCA.html)."
   ]
  },
  {
   "cell_type": "code",
   "execution_count": 8,
   "metadata": {},
   "outputs": [
    {
     "name": "stdout",
     "output_type": "stream",
     "text": [
      "PCA(copy=True, iterated_power='auto', n_components=5, random_state=None,\n",
      "  svd_solver='auto', tol=0.0, whiten=False)\n"
     ]
    },
    {
     "data": {
      "text/plain": [
       "<matplotlib.legend.Legend at 0x1a954c68668>"
      ]
     },
     "execution_count": 8,
     "metadata": {},
     "output_type": "execute_result"
    },
    {
     "data": {
      "image/png": "[encoded data removed]",
      "text/plain": [
       "<Figure size 864x864 with 1 Axes>"
      ]
     },
     "metadata": {},
     "output_type": "display_data"
    }
   ],
   "source": [
    "from sklearn.decomposition import PCA\n",
    "pca = PCA(n_components=5)\n",
    "print(pca)\n",
    "\n",
    "pca.fit(features_nor)\n",
    "DataExtract = pca.transform(features_nor) # Ou fit_transform directement\n",
    "\n",
    "ACP0 = DataExtract[:,0]\n",
    "ACP1 = DataExtract[:,1]\n",
    "\n",
    "plt.figure(figsize=(12, 12))\n",
    "for c, i, act in zip(\"rgbycm\", range(0,6),range(0,6)):\n",
    "    plt.scatter(ACP0[activity==i],ACP1[activity==i], c=c, label=act)\n",
    "# iterer sur les activités et utiliser un zip pour\n",
    "# faciliter la representation graphique des objets \n",
    "# sur lesquels on itere\n",
    "plt.legend()"
   ]
  },
  {
   "cell_type": "markdown",
   "metadata": {},
   "source": [
    "# Problème de classification à deux classes"
   ]
  },
  {
   "cell_type": "markdown",
   "metadata": {},
   "source": [
    "Dans toute la première partie du TP, on considère un problème de classification à deux classes. \n",
    "\n",
    "> Extraire les donnnés pour les activités  3 et 4 uniquement. On appelera `features34` et `activity34` les données correspondantes."
   ]
  },
  {
   "cell_type": "code",
   "execution_count": 9,
   "metadata": {},
   "outputs": [
    {
     "name": "stdout",
     "output_type": "stream",
     "text": [
      "(2660, 561)\n"
     ]
    }
   ],
   "source": [
    "n,p = shape(features_nor)\n",
    "index_act34 = [i for i in range(n) if activity[i]==3 or activity[i]==4] \n",
    "activity34 = activity[index_act34]\n",
    "features34 = features_nor[index_act34,:]\n",
    "print(shape(features34))"
   ]
  },
  {
   "cell_type": "markdown",
   "metadata": {},
   "source": [
    "# Présélection de features  pour réduire la dimension (screening)\n",
    "\n",
    "Pour diminuer les temps de calul on peut pré-sélectionner les 100 features les plus discriminants via un critère unvarié. \n",
    "\n",
    "> Utiliser le critère  [SelectKBest](http://scikit-learn.org/stable/modules/generated/sklearn.feature_selection.SelectKBest.html) basé sur la F-value (variance inter / variance intra).\n",
    "\n",
    "Attention, cette méthode ne garantit en rien que l'on a choisi le \"meilleur\" groupe de 100 variables pour le problème de classification."
   ]
  },
  {
   "cell_type": "code",
   "execution_count": 10,
   "metadata": {},
   "outputs": [
    {
     "name": "stdout",
     "output_type": "stream",
     "text": [
      "(2660, 100)\n"
     ]
    },
    {
     "data": {
      "text/plain": [
       "array([[ 1.10007176e+00,  1.38089495e+00,  1.89952314e+00, ...,\n",
       "        -6.87219211e-01,  4.07946135e-01, -7.56788537e-03],\n",
       "       [ 5.51490063e-01,  3.07608575e-01,  3.65782382e-01, ...,\n",
       "        -6.94137995e-01,  4.09116983e-01,  7.87517067e-03],\n",
       "       [ 1.68551367e-01,  1.19019296e-03,  3.83495707e-02, ...,\n",
       "        -7.02239005e-01,  4.10288301e-01,  2.65023352e-02],\n",
       "       ...,\n",
       "       [ 1.11713514e+00,  3.06721140e-01,  1.75934348e-02, ...,\n",
       "        -4.83903364e-01,  7.54517344e-02, -4.14398080e-01],\n",
       "       [ 1.09089808e+00, -9.23908493e-02,  2.18715554e-01, ...,\n",
       "        -4.78286039e-01,  7.21272146e-02, -4.21484382e-01],\n",
       "       [ 1.16432356e+00, -1.67172925e-03, -3.36305122e-01, ...,\n",
       "        -4.78540215e-01,  7.23500145e-02, -4.21171415e-01]])"
      ]
     },
     "execution_count": 10,
     "metadata": {},
     "output_type": "execute_result"
    }
   ],
   "source": [
    "from sklearn.feature_selection import SelectKBest, f_classif\n",
    "Selec = SelectKBest(f_classif, k=100)\n",
    "features34 = Selec.fit_transform(features34, activity34)\n",
    "print(shape(features34))\n",
    "features34"
   ]
  },
  {
   "cell_type": "markdown",
   "metadata": {},
   "source": [
    "# Ajustement pour des méthodes classiques d'apprentissage"
   ]
  },
  {
   "cell_type": "markdown",
   "metadata": {},
   "source": [
    "> Pour chacune des méthodes de classificiation listées ci-dessous, construire un predicteur de l'activité en utilisant comme données d'apprentissage la base (features34,activity34) :      \n",
    "- Classifieur naif bayesien avec la fonction `GaussianNB()`   \n",
    "- Classifieur des k plus proches voisins avec `neighbors.KNeighborsClassifier()  `  \n",
    "- Classifieur par régression logistique, avec pénalisation ridge puis avec une pénalisation lasso, en utilisant la fonction `linear_model.LogisticRegression() `  \n",
    "\n",
    "\n",
    "Une présentation de chacune des ces fonction est accessible depuis cette [page](http://scikit-learn.org/stable/user_guide.html).\n",
    "</p>"
   ]
  },
  {
   "cell_type": "code",
   "execution_count": 11,
   "metadata": {},
   "outputs": [
    {
     "data": {
      "text/plain": [
       "array([3, 3, 4, ..., 3, 3, 3], dtype=int64)"
      ]
     },
     "execution_count": 11,
     "metadata": {},
     "output_type": "execute_result"
    }
   ],
   "source": [
    "from sklearn.naive_bayes import GaussianNB \n",
    "gnb = GaussianNB()\n",
    "y_pred_gnb = gnb.fit(features34, activity34).predict(features34)\n",
    "y_pred_gnb"
   ]
  },
  {
   "cell_type": "code",
   "execution_count": 12,
   "metadata": {},
   "outputs": [
    {
     "data": {
      "text/plain": [
       "array([4, 4, 4, ..., 3, 3, 3], dtype=int64)"
      ]
     },
     "execution_count": 12,
     "metadata": {},
     "output_type": "execute_result"
    }
   ],
   "source": [
    "from sklearn import neighbors\n",
    "n_neighbors = 5\n",
    "weights = 'uniform'\n",
    "nn = neighbors.KNeighborsClassifier(n_neighbors, weights=weights)\n",
    "y_pred_nn = nn.fit(features34, activity34).predict(features34)\n",
    "y_pred_nn"
   ]
  },
  {
   "cell_type": "code",
   "execution_count": 13,
   "metadata": {},
   "outputs": [
    {
     "name": "stderr",
     "output_type": "stream",
     "text": [
      "C:\\Users\\acer\\Anaconda3\\lib\\site-packages\\sklearn\\linear_model\\logistic.py:433: FutureWarning: Default solver will be changed to 'lbfgs' in 0.22. Specify a solver to silence this warning.\n",
      "  FutureWarning)\n"
     ]
    },
    {
     "data": {
      "text/plain": [
       "array([4, 4, 4, ..., 3, 3, 3], dtype=int64)"
      ]
     },
     "execution_count": 13,
     "metadata": {},
     "output_type": "execute_result"
    }
   ],
   "source": [
    "from sklearn import linear_model\n",
    "logit =  linear_model.LogisticRegression()\n",
    "y_pred_logit = logit.fit(features34,activity34).predict(features34)\n",
    "y_pred_logit"
   ]
  },
  {
   "cell_type": "markdown",
   "metadata": {},
   "source": [
    "# Evaluation de l'erreur avec un découpage train / test"
   ]
  },
  {
   "cell_type": "markdown",
   "metadata": {},
   "source": [
    "> Estimer les performances de classification sur l'échantillon d'apprentissage conduit à sous-estimer systématiquement l'erreur de généralisation du prédicteur construit. Calculer l'erreur estimée sur les données d'apprentissage."
   ]
  },
  {
   "cell_type": "code",
   "execution_count": 14,
   "metadata": {},
   "outputs": [
    {
     "name": "stdout",
     "output_type": "stream",
     "text": [
      "Précision :\n",
      "Naive Bayes : 0.8056390977443609\n",
      "KNN : 0.9609022556390977\n",
      "Logistic Regression : 0.9590225563909774\n"
     ]
    }
   ],
   "source": [
    "from sklearn.metrics import accuracy_score\n",
    "print(\"Précision :\")\n",
    "for ypred, method in zip([y_pred_gnb, y_pred_nn, y_pred_logit],[\"Naive Bayes\",\"KNN\",\"Logistic Regression\"]):\n",
    "    print(method, \":\", accuracy_score(activity34,ypred))"
   ]
  },
  {
   "cell_type": "markdown",
   "metadata": {},
   "source": [
    "On peut contourner ce problème de surapprentissage systématique en utilisant un ensemble de validation. Pour cela on considère deux échantillons :\n",
    "\n",
    "- l'ensemble d'apprentissage : utilisé pour construire des prédicteurs ;\n",
    "- l'ensemble de test : utilisé pour évaluer les performances des prédicteurs."
   ]
  },
  {
   "cell_type": "markdown",
   "metadata": {},
   "source": [
    "> Utiliser la fonction <code>train_test_split</code>  du module [<code> model_selection</code>](http://scikit-learn.org/stable/modules/classes.html#module-sklearn.model_selection) pour construire un échantillon d'apprentissage de taille 60% (et donc 40% réservées aux données de test)"
   ]
  },
  {
   "cell_type": "code",
   "execution_count": 15,
   "metadata": {},
   "outputs": [
    {
     "name": "stdout",
     "output_type": "stream",
     "text": [
      "0.6\n",
      "0.4\n",
      "(1064, 100)\n"
     ]
    }
   ],
   "source": [
    "from sklearn import model_selection\n",
    "\n",
    "features_train, features_test, activity_train, activity_test = model_selection.train_test_split(features34, activity34, \n",
    "                                                                                                test_size=0.4)\n",
    "print(len(activity_train)/ float(len(activity34)))\n",
    "print(len(activity_test)/ float(len(activity34)))\n",
    "print(shape(features_test))\n",
    " "
   ]
  },
  {
   "cell_type": "markdown",
   "metadata": {},
   "source": [
    "> Evaluer le risque d'un classifieur par plus proches voisins sur ce découpage des données :"
   ]
  },
  {
   "cell_type": "code",
   "execution_count": 16,
   "metadata": {},
   "outputs": [
    {
     "name": "stdout",
     "output_type": "stream",
     "text": [
      "Précision :  0.9125939849624061\n"
     ]
    }
   ],
   "source": [
    "nn = neighbors.KNeighborsClassifier(n_neighbors, weights=weights)\n",
    "y_pred_nn_bis = nn.fit(features_train, activity_train)\n",
    "predictions_nn = nn.predict(features_test)\n",
    "print(\"Précision : \", accuracy_score(activity_test,predictions_nn))"
   ]
  },
  {
   "cell_type": "markdown",
   "metadata": {},
   "source": [
    "> Reproduire la procédure 100 fois et dresser le boxplot de l'estimation de l'erreur sur ces 100 runs."
   ]
  },
  {
   "cell_type": "code",
   "execution_count": 17,
   "metadata": {},
   "outputs": [
    {
     "data": {
      "image/png": "[encoded data removed]",
      "text/plain": [
       "<Figure size 432x288 with 1 Axes>"
      ]
     },
     "metadata": {},
     "output_type": "display_data"
    }
   ],
   "source": [
    "score_train_test = [] # pour stockage des scores\n",
    "for simu in range(100) :\n",
    "    features_train, features_test, activity_train, activity_test = model_selection.train_test_split(features34, activity34, \n",
    "                                                                                                test_size=0.4)\n",
    "    nn_train_test = neighbors.KNeighborsClassifier(n_neighbors, weights=weights)\n",
    "    predic_nn = nn_train_test.fit(features_train, activity_train).predict(features_test)\n",
    "    score_train_test.append(accuracy_score(activity_test,predic_nn))\n",
    "B = plt.boxplot(score_train_test)"
   ]
  },
  {
   "cell_type": "markdown",
   "metadata": {},
   "source": [
    "> Tracer la courbe d'erreur du classifieur par plus proches voisins en fonction du nombre de voisins utilisés (de 1 à 15), en utilisant cette méthode de découpage train / test répétée 20 fois."
   ]
  },
  {
   "cell_type": "code",
   "execution_count": 19,
   "metadata": {},
   "outputs": [],
   "source": [
    "mean_score = np.zeros(15)\n",
    "for k in range(1,16):\n",
    "    score_train_test = [] # pour stockage des scores\n",
    "    for simu in range(10) :\n",
    "        features_train, features_test, activity_train, activity_test = model_selection.train_test_split(features34, activity34, \n",
    "                                                                                                test_size=0.4)\n",
    "        nn_train_test = neighbors.KNeighborsClassifier(k, weights=weights)\n",
    "        predic_nn = nn_train_test.fit(features_train, activity_train).predict(features_test)\n",
    "        score_train_test.append(accuracy_score(activity_test,predic_nn))\n",
    "    mean_score[k-1] = np.mean(score_train_test)\n",
    "        \n",
    "    "
   ]
  },
  {
   "cell_type": "code",
   "execution_count": 20,
   "metadata": {},
   "outputs": [
    {
     "data": {
      "text/plain": [
       "[<matplotlib.lines.Line2D at 0x1a95707e518>]"
      ]
     },
     "execution_count": 20,
     "metadata": {},
     "output_type": "execute_result"
    },
    {
     "data": {
      "image/png": "[encoded data removed]",
      "text/plain": [
       "<Figure size 432x288 with 1 Axes>"
      ]
     },
     "metadata": {},
     "output_type": "display_data"
    }
   ],
   "source": [
    "plt.plot(range(1,16),mean_score)"
   ]
  },
  {
   "cell_type": "markdown",
   "metadata": {},
   "source": [
    "# Estimation du risque par validation croisée \n",
    "\n",
    "Le principal défaut de l'approche par train/validation/test est qu'elle demande un grand\n",
    "volume de données. En pratique, on lui préfère en général une méthode de\n",
    "validation croisée, même si cette deuxième approche a le défaut d'être plus coûteuse en temps de\n",
    "calcul. On présente ci-dessous la méthode du de validation croisée de type **k-fold**.\n",
    "\n",
    "L'idée principale de la méthode est de faire jouer à chaque observation à la fois le rôle de donnée d'apprentissage et celui de donnée de validation. \n",
    "\n",
    "Le principe consiste à partitionner aléatoirement les données $D=(\\mathbf{x}_i,y_i)_{1\\leq i\\leq N} $ \n",
    "en $K$ blocs disjoints de tailles comparables :\n",
    "$D^1,\\ldots,D^K$. On prend généralement $K=5$ ou $10$. La méthode du **leave-one-out (Loo)** correpond au choix $K=N-1$. \n",
    "\n",
    "On estime alors la qualité d'un type de predicteur de la\n",
    "façon suivante :\n",
    "- pour tout $k \\in \\{1,\\dots, K\\}$, on construit un predicteur $\\hat f^k$ sur l'ensemble d'apprentissage $D^{-k} := D\\setminus D^k$ ;\n",
    "- on calcule le risque empirique de $\\hat f^k$ par\n",
    "$$\n",
    "\\frac{1}{N}\\sum_{k=1}^K\\sum_{\\mathbf{x}_i\\in D^k} \\ell(f^k(\\mathbf{x}_i),y_i),\n",
    "$$\n",
    "où $\\ell$ est la perte utilisée.\n",
    "\n",
    "En d'autres termes, on construit autant de prédicteurs qu'il y a de blocs dans\n",
    "l'ensemble d'apprentissage. Chaque prédicteur est évalué sur les éléments du\n",
    "bloc qui n'a pas vu en apprentissage (et qui joue donc le rôle d'un\n",
    "ensemble de validation). \n",
    "\n",
    "Lorsque l'on souhaite régler un paramètre en utlisant la validation croisée, par exemple le nombre de voisins $k$ pour knn, on procède comme suit :\n",
    "- on évalue les performances des prédicteurs via le risque empirique calculé sur le bloc hors apprentissage, comme expliqué ci-dessus ;\n",
    "- on détermine la valeur optimale du paramètre ;\n",
    "- on construit finalement un predicteur pour le paramètre sélectionné, en utilisant comme base d'apprentissage toutes les données.\n",
    "\n",
    "\n",
    "**Comparaison entre LOO et methodes k folds, quelques repères :** \n",
    "- LOO a un coût computationnel plus élevé que les méthodes k-fold pour k petit (pour k = 5 ou 10 par exemple)\n",
    "- L'estimation de l'erreur fournie par LOO a généralement une variance plus élevée que celles obtenues par un k-fold pour k petit.\n",
    "- En revanche, si l'erreur de classification décroit très rapidement avec $n$, les méthodes k-fold avec k petit peuvent surestimer significativement l'erreur de généralisation.\n",
    "- En général, il est souvent recommandé d'utiliser les méthodes k-fold avec k = 5 ou 10."
   ]
  },
  {
   "cell_type": "markdown",
   "metadata": {},
   "source": [
    "###  Estimation de l'erreur par 10-fold :"
   ]
  },
  {
   "cell_type": "code",
   "execution_count": 21,
   "metadata": {},
   "outputs": [
    {
     "name": "stdout",
     "output_type": "stream",
     "text": [
      "[0.90636704 0.83520599 0.85018727 0.81273408 0.88345865 0.80451128\n",
      " 0.91320755 0.95849057 0.84150943 0.88679245]\n",
      "0.8692464306834502\n"
     ]
    }
   ],
   "source": [
    "nn_val_croisee = neighbors.KNeighborsClassifier(n_neighbors = 10)\n",
    "scores = model_selection.cross_val_score(nn_val_croisee, features34, activity34, cv=10)\n",
    "print(scores)\n",
    "print(mean(scores))"
   ]
  },
  {
   "cell_type": "markdown",
   "metadata": {},
   "source": [
    "###  Estimation de l'erreur par Loo\n",
    "\n",
    "\n",
    "> Utiliser la fonction <code>LeaveOneOut</code> de `model_selection pour évaluer l'erreur du classifieur de plus proche voisin (pour 10 voisins).\n",
    "\n"
   ]
  },
  {
   "cell_type": "code",
   "execution_count": null,
   "metadata": {},
   "outputs": [],
   "source": [
    "# from sklearn.model_selection import LeaveOneOut\n",
    "# loo = LeaveOneOut()\n",
    "# score_train_test = [] # pour stockage des scores\n",
    "# for train_index, test_index in loo.split(features34):\n",
    "#     nn_loo = neighbors.KNeighborsClassifier(n_neighbors = 10)\n",
    "#     predic_nn = nn_loo.fit(features34[train_index], activity34[train_index]).predict(features34[test_index])\n",
    "#     score_train_test.append(accuracy_score(activity34[test_index],predic_nn))"
   ]
  },
  {
   "cell_type": "code",
   "execution_count": 22,
   "metadata": {},
   "outputs": [
    {
     "data": {
      "text/plain": [
       "0.9278195488721804"
      ]
     },
     "execution_count": 22,
     "metadata": {},
     "output_type": "execute_result"
    }
   ],
   "source": [
    "from sklearn.model_selection import LeaveOneOut\n",
    "loo = LeaveOneOut()\n",
    "nn_val_croisee = neighbors.KNeighborsClassifier(n_neighbors=10)\n",
    "scores = model_selection.cross_val_score(nn_val_croisee, features34, activity34, cv=loo)\n",
    "mean(scores)"
   ]
  },
  {
   "cell_type": "markdown",
   "metadata": {},
   "source": [
    "## Sélection du nombre de plus proches voisins par validation croisée 10 fold"
   ]
  },
  {
   "cell_type": "markdown",
   "metadata": {},
   "source": [
    "> Selectionner un nombre de voisins pour le classifieur de plus proches voisins par validation 10 fold."
   ]
  },
  {
   "cell_type": "code",
   "execution_count": 43,
   "metadata": {},
   "outputs": [
    {
     "name": "stdout",
     "output_type": "stream",
     "text": [
      "Meilleur paramètre : 14\n"
     ]
    }
   ],
   "source": [
    "scores=[]\n",
    "best_param = 2\n",
    "best_score = 0\n",
    "for n_neigh in range(2,20):\n",
    "    nn_val_croisee = neighbors.KNeighborsClassifier(n_neighbors = n_neigh)\n",
    "    score = model_selection.cross_val_score(nn_val_croisee, features34, activity34, cv=10)\n",
    "    scores.append(score)\n",
    "    if np.mean(score) > np.mean(best_score) :\n",
    "        best_param = n_neigh\n",
    "        best_score = score\n",
    "print(\"Meilleur paramètre :\", best_param)\n",
    "    "
   ]
  },
  {
   "cell_type": "markdown",
   "metadata": {},
   "source": [
    "# La fonction GridSearchCV\n",
    "\n",
    "En pratique, il est courant de devoir régler des paramètres par validation croisée. La fonction GridSearchCV permet d'effectuer cette tache de façon simple, en répartissant éventuellement les calculs sur plusieurs coeurs (voir plus bas)."
   ]
  },
  {
   "cell_type": "code",
   "execution_count": 23,
   "metadata": {},
   "outputs": [
    {
     "name": "stdout",
     "output_type": "stream",
     "text": [
      "236.7478392124176 sec\n",
      "{'n_neighbors': 14}\n"
     ]
    }
   ],
   "source": [
    "from sklearn.model_selection import GridSearchCV\n",
    "from time import time\n",
    "\n",
    "# la grille de parametres a regler sont definis dans un dictionnaire (dict)\n",
    "tuned_parameters = {'n_neighbors': range(2,20)}\n",
    "start = time()\n",
    "nnGrid = GridSearchCV(neighbors.KNeighborsClassifier(), tuned_parameters,\n",
    "                      cv=5)\n",
    "nnGrid.fit(features34, activity34)\n",
    "print(str(time() - start)+ \" sec\")\n",
    "\n",
    "# le meilleur modele \n",
    "print(nnGrid.best_params_)"
   ]
  },
  {
   "cell_type": "markdown",
   "metadata": {
    "collapsed": true
   },
   "source": [
    "# Classification multiclasses \n",
    "\n",
    "Nous allons maintenant nous intéresser au problème de la classification des 6 classes d'activité. Sauf précision, la perte utilisée est la perte de mauvais classement \"sèche\" (harsh metric)."
   ]
  },
  {
   "cell_type": "markdown",
   "metadata": {},
   "source": [
    "## Présélection de features\n",
    "\n",
    "Pour réduire les temps de calcul (il s'agit d'un TP...) nous appliquons la même stratégie de présélection de features que pour le cas à deux classes :"
   ]
  },
  {
   "cell_type": "code",
   "execution_count": 24,
   "metadata": {},
   "outputs": [
    {
     "data": {
      "text/plain": [
       "(7352, 20)"
      ]
     },
     "execution_count": 24,
     "metadata": {},
     "output_type": "execute_result"
    }
   ],
   "source": [
    "Selec = SelectKBest(f_classif, k=20)\n",
    "features_all_activities = Selec.fit_transform(activity_features, activity)\n",
    "shape(features_all_activities)"
   ]
  },
  {
   "cell_type": "markdown",
   "metadata": {},
   "source": [
    "#### Classifieur naif bayesien multiclasses"
   ]
  },
  {
   "cell_type": "code",
   "execution_count": 31,
   "metadata": {},
   "outputs": [
    {
     "name": "stdout",
     "output_type": "stream",
     "text": [
      "[0.84552846 0.71138211 0.80487805 0.69742198 0.83559783 0.67934783\n",
      " 0.71077763 0.66393443 0.84016393 0.77459016]\n",
      "0.756362240184805\n"
     ]
    }
   ],
   "source": [
    "from sklearn.model_selection import cross_val_score\n",
    "gnb = GaussianNB()\n",
    "scores  = cross_val_score(gnb, features_all_activities, activity, cv=10)\n",
    "print(scores)\n",
    "print(mean(scores))"
   ]
  },
  {
   "cell_type": "markdown",
   "metadata": {},
   "source": [
    "#### Classifieur des k plus proches voisins multiclasses"
   ]
  },
  {
   "cell_type": "code",
   "execution_count": 33,
   "metadata": {},
   "outputs": [
    {
     "name": "stdout",
     "output_type": "stream",
     "text": [
      "[0.81436314 0.81165312 0.81165312 0.76390773 0.75407609 0.79891304\n",
      " 0.78171896 0.81693989 0.86338798 0.82786885]\n",
      "0.8044481925662087\n"
     ]
    }
   ],
   "source": [
    "nn = neighbors.KNeighborsClassifier(n_neighbors = 4, weights=\"uniform\")\n",
    "scores  = cross_val_score(nn, features_all_activities, activity, cv=10)\n",
    "print(scores)\n",
    "print(mean(scores))"
   ]
  },
  {
   "cell_type": "markdown",
   "metadata": {},
   "source": [
    "> Utiliser la fonction GridSearchCV pour choisir le nombre de voisin pour l'estimateur knn dans ce cas multiclasses. Ajuster le modèle finalement choisi sur la base d'apprentissage et dresser la matrice de confusion."
   ]
  },
  {
   "cell_type": "code",
   "execution_count": 35,
   "metadata": {},
   "outputs": [
    {
     "name": "stdout",
     "output_type": "stream",
     "text": [
      "64.07361841201782 sec\n",
      "{'n_neighbors': 17}\n"
     ]
    }
   ],
   "source": [
    "tuned_parameters = {'n_neighbors': range(2,20)}\n",
    "start = time()\n",
    "nnGrid = GridSearchCV(neighbors.KNeighborsClassifier(), tuned_parameters,\n",
    "                      cv=5)\n",
    "nnGrid.fit(features_all_activities, activity)\n",
    "print(str(time() - start)+ \" sec\")\n",
    "\n",
    "# le meilleur modele \n",
    "print(nnGrid.best_params_)"
   ]
  },
  {
   "cell_type": "code",
   "execution_count": 38,
   "metadata": {},
   "outputs": [
    {
     "data": {
      "text/plain": [
       "array([[497,   8,  10,   0,   0,   0],\n",
       "       [  5, 427,   6,   0,   0,   0],\n",
       "       [  4,  36, 357,   0,   0,   0],\n",
       "       [  0,   0,   0, 326, 179,   0],\n",
       "       [  0,   0,   0,  93, 437,   0],\n",
       "       [  0,   0,   0,   0,   0, 556]], dtype=int64)"
      ]
     },
     "execution_count": 38,
     "metadata": {},
     "output_type": "execute_result"
    }
   ],
   "source": [
    "from sklearn.metrics import confusion_matrix\n",
    "best_param = 17\n",
    "nn = neighbors.KNeighborsClassifier(n_neighbors = best_param)\n",
    "features_train, features_test, activity_train, activity_test = model_selection.train_test_split(features_all_activities,\n",
    "                                                                                                activity, \n",
    "                                                                                                test_size=0.4)\n",
    "nn_train_test = neighbors.KNeighborsClassifier(best_param, weights=weights)\n",
    "predic_nn = nn_train_test.fit(features_train, activity_train).predict(features_test)\n",
    "confusion_matrix(activity_test, predic_nn)"
   ]
  },
  {
   "cell_type": "markdown",
   "metadata": {
    "collapsed": true
   },
   "source": [
    "# Regression logistique Lasso"
   ]
  },
  {
   "cell_type": "markdown",
   "metadata": {},
   "source": [
    "> Ajuster et évaluer un modèle logistique Lasso sur les données avec la fonction [LogisticRegression](https://scikit-learn.org/stable/modules/generated/sklearn.linear_model.LogisticRegression.html#sklearn.linear_model.LogisticRegression)"
   ]
  },
  {
   "cell_type": "code",
   "execution_count": 51,
   "metadata": {},
   "outputs": [
    {
     "name": "stderr",
     "output_type": "stream",
     "text": [
      "C:\\Users\\acer\\Anaconda3\\lib\\site-packages\\sklearn\\linear_model\\logistic.py:758: ConvergenceWarning: lbfgs failed to converge. Increase the number of iterations.\n",
      "  \"of iterations.\", ConvergenceWarning)\n",
      "C:\\Users\\acer\\Anaconda3\\lib\\site-packages\\sklearn\\linear_model\\logistic.py:758: ConvergenceWarning: lbfgs failed to converge. Increase the number of iterations.\n",
      "  \"of iterations.\", ConvergenceWarning)\n",
      "C:\\Users\\acer\\Anaconda3\\lib\\site-packages\\sklearn\\linear_model\\logistic.py:758: ConvergenceWarning: lbfgs failed to converge. Increase the number of iterations.\n",
      "  \"of iterations.\", ConvergenceWarning)\n",
      "C:\\Users\\acer\\Anaconda3\\lib\\site-packages\\sklearn\\linear_model\\logistic.py:758: ConvergenceWarning: lbfgs failed to converge. Increase the number of iterations.\n",
      "  \"of iterations.\", ConvergenceWarning)\n",
      "C:\\Users\\acer\\Anaconda3\\lib\\site-packages\\sklearn\\linear_model\\logistic.py:758: ConvergenceWarning: lbfgs failed to converge. Increase the number of iterations.\n",
      "  \"of iterations.\", ConvergenceWarning)\n",
      "C:\\Users\\acer\\Anaconda3\\lib\\site-packages\\sklearn\\linear_model\\logistic.py:758: ConvergenceWarning: lbfgs failed to converge. Increase the number of iterations.\n",
      "  \"of iterations.\", ConvergenceWarning)\n"
     ]
    }
   ],
   "source": [
    "from sklearn.linear_model import LogisticRegressionCV\n",
    "\n",
    "clf = LogisticRegressionCV(cv=5, random_state=0, multi_class='multinomial').fit(features_all_activities, activity)"
   ]
  },
  {
   "cell_type": "code",
   "execution_count": 52,
   "metadata": {},
   "outputs": [
    {
     "data": {
      "text/plain": [
       "0.8979869423286181"
      ]
     },
     "execution_count": 52,
     "metadata": {},
     "output_type": "execute_result"
    }
   ],
   "source": [
    "clf.score(features_all_activities, activity) "
   ]
  }
 ],
 "metadata": {
  "anaconda-cloud": {},
  "kernelspec": {
   "display_name": "Python 3",
   "language": "python",
   "name": "python3"
  },
  "language_info": {
   "codemirror_mode": {
    "name": "ipython",
    "version": 3
   },
   "file_extension": ".py",
   "mimetype": "text/x-python",
   "name": "python",
   "nbconvert_exporter": "python",
   "pygments_lexer": "ipython3",
   "version": "3.7.3"
  }
 },
 "nbformat": 4,
 "nbformat_minor": 1
}
